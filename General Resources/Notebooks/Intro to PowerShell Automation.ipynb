{
    "metadata": {
        "kernelspec": {
            "name": "powershell",
            "display_name": "PowerShell",
            "language": "powershell"
        },
        "language_info": {
            "name": "powershell",
            "codemirror_mode": "shell",
            "mimetype": "text/x-sh",
            "file_extension": ".ps1"
        }
    },
    "nbformat_minor": 2,
    "nbformat": 4,
    "cells": [
        {
            "cell_type": "markdown",
            "source": [
                "![](https://straightpathsql.com/wp-content/uploads/2016/09/straight-path-solutions-logo-header.png)\n",
                "\n",
                "# Workshop: Intro to PowerShell Automation\n",
                "\n",
                "#### _A Straight Path Consulting Course from David Seis_\n",
                "\n",
                "![](https://raw.githubusercontent.com/microsoft/sqlworkshops/master/graphics/textbubble.png)\n",
                "\n",
                "## GOAL:\n",
                "\n",
                "By the end of this session, students will be able to determine at least one way PowerShell could help automate a part of their job."
            ],
            "metadata": {
                "azdata_cell_guid": "247207f8-b0e9-466d-8385-16e561b12fc5"
            },
            "attachments": {}
        },
        {
            "cell_type": "markdown",
            "source": [
                "## 1.1 PowerShell Concept: Commands\n",
                "\n",
                "Imagine PowerShell as a language for instructing a helpful robot. When you want the robot to perform a specific task, you give it a command. These commands follow a verb-noun structure, where the verb describes the action you want (like “Get,” “Set,” or “Start”), and the noun specifies the target (such as a file, service, or process). So, in PowerShell, you’re essentially telling your robot what to do by combining these verbs and nouns!"
            ],
            "metadata": {
                "azdata_cell_guid": "49fd0a9d-e222-4289-b968-a9323741f701"
            },
            "attachments": {}
        },
        {
            "cell_type": "code",
            "source": [
                "<# Basic Commands #>\r\n",
                "\r\n",
                "#get the current location of the powershell cli\r\n",
                "get-location\r\n",
                "\r\n",
                "#get the current date and time\r\n",
                "Get-date\r\n",
                "\r\n",
                "# get the region information of the computer\r\n",
                "get-culture"
            ],
            "metadata": {
                "azdata_cell_guid": "83418ff8-7dbc-484a-b0cb-4a224da12dd1",
                "language": "powershell",
                "tags": []
            },
            "outputs": [
                {
                    "output_type": "stream",
                    "name": "stdout",
                    "text": "\nPath              \n----              \nC:\\Users\\DavidSeis\n\nDisplayHint : DateTime\nDate        : 5/3/2024 12:00:00 AM\nDay         : 3\nDayOfWeek   : Friday\nDayOfYear   : 124\nHour        : 21\nKind        : Local\nMillisecond : 393\nMinute      : 11\nMonth       : 5\nSecond      : 14\nTicks       : 638503674743930880\nTimeOfDay   : 21:11:14.3930880\nYear        : 2024\nDateTime    : Friday, May 3, 2024 9:11:14 PM\n\n\nParent                         : en\nLCID                           : 1033\nKeyboardLayoutId               : 1033\nName                           : en-US\nIetfLanguageTag                : en-US\nDisplayName                    : English (United States)\nNativeName                     : English (United States)\nEnglishName                    : English (United States)\nTwoLetterISOLanguageName       : en\nThreeLetterISOLanguageName     : eng\nThreeLetterWindowsLanguageName : ENU\nCompareInfo                    : CompareInfo - en-US\nTextInfo                       : TextInfo - en-US\nIsNeutralCulture               : False\nCultureTypes                   : SpecificCultures, InstalledWin32Cultures, FrameworkCultures\nNumberFormat                   : System.Globalization.NumberFormatInfo\nDateTimeFormat                 : System.Globalization.DateTimeFormatInfo\nCalendar                       : System.Globalization.GregorianCalendar\nOptionalCalendars              : {System.Globalization.GregorianCalendar, System.Globalization.GregorianCalendar}\nUseUserOverride                : True\nIsReadOnly                     : False\n\n\n\n"
                }
            ],
            "execution_count": 13
        },
        {
            "cell_type": "markdown",
            "source": [
                "## 1.2 PowerShell Concepts: Arguments\n",
                "\n",
                "Imagine you’re instructing your robot to fetch a specific book from a library. You’ve already given it the basic command: “Get-Book.” But now, you want to refine that command by specifying additional details. These details are like arguments in PowerShell. <span style=\"color: var(--vscode-foreground);\">By providing arguments, you fine-tune your command, making it more precise and tailored to your needs. Just like our robot, PowerShell responds better when you give it clear instructions!&nbsp;</span> \n",
                "\n",
                "<span style=\"color: var(--vscode-foreground);\">Use this ficticious powershell command to connect to the idea:</span>\n",
                "\n",
                "> “Get-Book -Title ‘The Art of Automation’ -Author ‘Robo Smith’”"
            ],
            "metadata": {
                "azdata_cell_guid": "50099859-2d31-4e90-8c3a-491c45da7b7f"
            },
            "attachments": {}
        },
        {
            "cell_type": "code",
            "source": [
                "<# Arguments for powershell commands are similar to parameters in T-SQL stored procedures #>\n",
                "Get-ComputerInfo -Property \"CsName\",\"OsName\",\"OsLastBootUpTime\" \n",
                ""
            ],
            "metadata": {
                "azdata_cell_guid": "18219f8c-bd73-4ecb-873a-28367af25c49",
                "language": "powershell"
            },
            "outputs": [
                {
                    "output_type": "stream",
                    "name": "stdout",
                    "text": "\nCsName       OsName                          OsLastBootUpTime   \n------       ------                          ----------------   \nDS-TESTBENCH Microsoft Windows 11 Enterprise 5/5/2024 4:49:48 PM\n\n\n"
                }
            ],
            "execution_count": 1
        },
        {
            "cell_type": "markdown",
            "source": [
                "## 1.3 PowerShell Concepts: Variables\n",
                "\n",
                "Variables in PowerShell are like containers where you can store almost anything: numbers, text, lists, or even complex objects. Think of them as labeled boxes that hold valuable items. Here’s how they relate to our robot analogy:\n",
                "\n",
                "<span style=\"color: var(--vscode-foreground);\">Creating a Variable: Imagine you have a robot assistant, and you want it to remember a specific book title. You’d create a label (the variable) and attach it to the book (the value). In PowerShell, you use the $ sign to define a variable:</span>  \n",
                "\n",
                "> $favoriteBook = \"The Art of Automation\"\n",
                "\n",
                "<span style=\"color: var(--vscode-foreground);\">Storing Different Types of Data: Just like our robot can hold both books and tools, a PowerShell variable can store various data types:</span>  \n",
                "\n",
                "> #Text (strings): \n",
                "> \n",
                "> $author = \"Robo Smith\"\n",
                "\n",
                "> #Numbers: \n",
                "> \n",
                "> $count = 42\n",
                "\n",
                "> #Lists (arrays): \n",
                "> \n",
                "> $colors = \"Red\", \"Green\", \"Blue\"\n",
                "\n",
                "Referencing Variables: When you need the robot to fetch the book, you’d say, “Get the book labeled ‘favoriteBook’.” Similarly, in PowerShell, you reference variables using their names:\n",
                "\n",
                "> Write-Host \"My favorite book is $favoriteBook by $author.\"\n",
                "\n",
                "  \n",
                "\n",
                "Remember, variables make your instructions more flexible and dynamic. They allow you to reuse values, perform calculations, and keep track of information. So, just like our robot assistant, PowerShell becomes more efficient when you use variables!"
            ],
            "metadata": {
                "language": "powershell",
                "azdata_cell_guid": "5438b68e-f297-4e26-833d-4b676d29ae31"
            },
            "attachments": {}
        },
        {
            "cell_type": "code",
            "source": [
                "$favoriteBook = \"The Art of Automation\"\r\n",
                "\r\n",
                "#Text (strings): \r\n",
                "$author = \"Robo Smith\"\r\n",
                "\r\n",
                "#Numbers: \r\n",
                "$count = 42\r\n",
                "\r\n",
                "Write-Host \"My favorite book is $favoriteBook by $author and it has sold $count copies!\""
            ],
            "metadata": {
                "language": "powershell",
                "azdata_cell_guid": "6a4d562d-b7e1-428e-821d-e579e86544a6",
                "tags": []
            },
            "outputs": [
                {
                    "output_type": "stream",
                    "name": "stdout",
                    "text": "My favorite book is The Art of Automation by Robo Smith and it has sold 42 copies!\n"
                }
            ],
            "execution_count": 2
        },
        {
            "cell_type": "markdown",
            "source": [
                "## 1.4 PowerShell Concepts: Piping\n",
                "\n",
                "Imagine it as connecting a series of commands using a pipeline, just like passing objects down a conveyor belt. Here’s how it works:\n",
                "\n",
                "<span style=\"color: var(--vscode-foreground);\">A pipeline in PowerShell is a sequence of commands linked by the pipe operator (|). Each command in the pipeline processes the output of the preceding command.</span>\n",
                "\n",
                "<span style=\"color: var(--vscode-foreground);\">How Pipelines Work:</span>\n",
                "\n",
                "You start with a simple command, like fetching a list of processes: \n",
                "\n",
                "> Get-Process.\n",
                "\n",
                "Now, you want to do something with that list—maybe stop specific processes. Instead of storing the list in a variable and then passing it to the next command, you can pipe it directly:\n",
                "\n",
                "> Get-Process | Stop-Process\n",
                "\n",
                "<span style=\"color: var(--vscode-foreground);\">In this example, the output of Get-Process (all running processes on the computer) flows into Stop-Process, which stops those processes and will likely cause some instability on your system.</span>\n",
                "\n",
                "Order of Processing:\n",
                "\n",
                "> Commands in a pipeline are processed from left to right.\n",
                "\n",
                "The entire pipeline is treated as a single operation, and output is displayed as it’s generated.\n",
                "\n",
                "For instance, consider this pipeline:\n",
                "\n",
                "> Get-ChildItem -Path \\*.txt | Where-Object {$\\_.Length -gt 10000}\n",
                "\n",
                "<span style=\"color: var(--vscode-foreground);\">Let’s break it down:</span>\n",
                "\n",
                "> Get-ChildItem: Gets text files in the current directory. We can use \"<span style=\"color: rgb(121, 94, 38); background-color: rgb(255, 255, 254); font-family: Consolas, &quot;Courier New&quot;, monospace; font-size: 12px; white-space: pre;\">get-location\" </span> <span style=\"color: var(--vscode-foreground);\">from above to see where we are.</span>\n",
                "\n",
                "> Where-Object: Filters files longer than 10,000 bytes.\n",
                "\n",
                "Visualizing the Pipeline:\n",
                "\n",
                "> Here’s how data flows through the pipeline:\n",
                "\n",
                "> Get-ChildItem -Path \\*.txt | (FileInfo objects for \\*.txt)\n",
                "\n",
                "> V Where-Object {$\\_.Length -gt 10000} | (FileInfo objects for \\*.txt) | (Length \\> 10000)\n",
                "\n",
                "<span style=\"color: var(--vscode-foreground);\">The final output shows the names and lengths of text files that meet the criteria.</span>\n",
                "\n",
                "Remember, pipelines make PowerShell powerful. By chaining commands together, you create efficient, expressive scripts!"
            ],
            "metadata": {
                "language": "powershell",
                "azdata_cell_guid": "03725b86-1cb2-4eb3-a569-b47639e9b5ae"
            },
            "attachments": {}
        },
        {
            "cell_type": "code",
            "source": [
                "set-location \"C:\\Users\\Administrator\\Downloads\\\"\r\n",
                "get-location\r\n",
                "Get-ChildItem -path *.txt | Where-Object {$_.Length -gt 10000} | Sort-Object -Property Length "
            ],
            "metadata": {
                "language": "powershell",
                "azdata_cell_guid": "af22697a-8313-4770-8ff3-74c7c2e1d2a7",
                "tags": []
            },
            "outputs": [
                {
                    "name": "stdout",
                    "text": "\nPath                            \n----                            \nC:\\Users\\Administrator\\Downloads\n\nLastWriteTime : 5/9/2024 10:57:57 AM\nLength        : 121734\nName          : Tool 1 - Full Rollout Az enabled(S1 Monitoring, Monthly BP, Monthly Tools, SSMS Update) (1).txt\n\n\n\n",
                    "output_type": "stream"
                }
            ],
            "execution_count": 1
        },
        {
            "cell_type": "markdown",
            "source": [
                "## 1.5 PowerShell Concepts: Modules\n",
                "\n",
                "Think of them as neatly packaged bundles of functionality that enhance PowerShell’s capabilities. Here’s what you need to know:\n",
                "\n",
                "<span style=\"color: var(--vscode-foreground);\">A module in PowerShell is like a self-contained toolbox. It can contain various components, such as:</span>  \n",
                "\n",
                "> Cmdlets: These are specialized commands that perform specific tasks.\n",
                "\n",
                "> Providers: They allow you to access data stores (like the registry or the file system) as if they were drives.\n",
                "\n",
                "> Functions: Custom reusable code blocks.\n",
                "\n",
                "> Variables: Named storage locations for data.\n",
                "\n",
                "> Aliases: Shortcuts for existing commands.\n",
                "\n",
                "<span style=\"color: var(--vscode-foreground);\">Using Modules:</span>\n",
                "\n",
                "<span style=\"background-color: rgba(127, 127, 127, 0.1); color: var(--vscode-foreground);\">PowerShell comes with a base set of modules (like the tools in a basic robot kit).&nbsp;</span> <span style=\"color: var(--vscode-foreground);\">You can also install additional modules from repositories like the PowerShell Gallery.&nbsp;</span> <span style=\"color: var(--vscode-foreground);\">To install a published module, use the Install-Module cmdlet. For example:</span>\n",
                "\n",
                "> Install-Module MyUsefulModule\n",
                "\n",
                "<span style=\"color: var(--vscode-foreground);\">Once installed, you can load a module using the Import-Module cmdlet:</span>  \n",
                "\n",
                "> Import-Module MyUsefulModule\n",
                "\n",
                "<span style=\"color: var(--vscode-foreground);\">Remember, modules make PowerShell more versatile. Just like adding specialized tools to your robot, modules extend what you can achieve!&nbsp;</span>"
            ],
            "metadata": {
                "language": "powershell",
                "azdata_cell_guid": "492107a7-070d-4823-858e-71436e0f250a"
            },
            "attachments": {}
        },
        {
            "cell_type": "code",
            "source": [
                "<# Code to install Dbatools #>\r\n",
                "\r\n",
                "Install-Module Dbatools -scope currentuser -force"
            ],
            "metadata": {
                "language": "powershell",
                "azdata_cell_guid": "3f33eb36-66c5-416b-86bd-a3167a3f6821",
                "tags": []
            },
            "outputs": [],
            "execution_count": null
        }
    ]
}