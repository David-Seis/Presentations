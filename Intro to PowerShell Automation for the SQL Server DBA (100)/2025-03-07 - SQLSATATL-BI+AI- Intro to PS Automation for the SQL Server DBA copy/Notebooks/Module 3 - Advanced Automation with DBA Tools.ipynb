{
    "cells": [
        {
            "attachments": {},
            "cell_type": "markdown",
            "metadata": {
                "azdata_cell_guid": "247207f8-b0e9-466d-8385-16e561b12fc5"
            },
            "source": [
                "![](https://straightpathsql.com/wp-content/uploads/2016/09/straight-path-solutions-logo-header.png)\n",
                "\n",
                "# Workshop: PowerShell Automation for the DBA\n",
                "\n",
                "#### _A Straight Path Consulting Course from David Seis_\n",
                "\n",
                "![](https://raw.githubusercontent.com/microsoft/sqlworkshops/master/graphics/textbubble.png)\n",
                "\n",
                "## Course Notebook: Module 3 - Advanced Automation with DBA Tools\n",
                "\n",
                "Welcome to this workshop on _PowerShell Automation for the DBA_. In this Notebook, you'll apply the concepts you learned in this Module.\n",
                "\n",
                "This Notebook contains recipes for some advanced powershell use cases. <span style=\"color: var(--vscode-foreground);\">You'll need a working knowledge of Powershell Basics and Basic Powershell Automation.</span>\n",
                "\n",
                "Please run the below script to configure your environment for these demos:"
            ]
        },
        {
            "cell_type": "code",
            "execution_count": 3,
            "metadata": {
                "dotnet_interactive": {
                    "language": "pwsh"
                },
                "polyglot_notebook": {
                    "kernelName": "pwsh"
                },
                "vscode": {
                    "languageId": "polyglot-notebook"
                }
            },
            "outputs": [
                {
                    "name": "stdout",
                    "output_type": "stream",
                    "text": [
                        "\n",
                        "    Directory: C:\\temp\n",
                        "\n",
                        "\u001b[32;1mMode   \u001b[0m\u001b[32;1m              LastWriteTime\u001b[0m \u001b[32;1;3m        Length\u001b[0m\u001b[32;1m Name\u001b[0m\n",
                        "\u001b[32;1m----   \u001b[0m \u001b[32;1m             -------------\u001b[0m \u001b[32;1m        ------\u001b[0m \u001b[32;1m----\u001b[0m\n",
                        "d----            3/8/2025 11:33 AM                \u001b[44;1mDemo\u001b[0m\n",
                        "C:\\temp\\Demo Directory was created\n",
                        "Environment configured\n",
                        "\n"
                    ]
                }
            ],
            "source": [
                "<# Environment Variables #>\n",
                "\n",
                "$sqlinstance = 'Seis-Work'\n",
                "$outputPath = \"C:\\temp\\Demo\"\n",
                "$CSVpath = \"$outputpath\\Home-lab_InstanceTracking.csv\" \n",
                "\n",
                "If(!(test-path -PathType container $outputPath)) \n",
                "{ \n",
                "    New-Item -ItemType Directory -Path $outputPath \n",
                "    Write-Host \"$outputPath Directory was created\"\n",
                "}\n",
                "\n",
                "Write-Host \"Environment configured\""
            ]
        },
        {
            "attachments": {},
            "cell_type": "markdown",
            "metadata": {
                "azdata_cell_guid": "50099859-2d31-4e90-8c3a-491c45da7b7f"
            },
            "source": [
                "## 3.1 Advanced PowerShell Automation: Files\n",
                "\n",
                "## \n",
                "\n",
                "In the context of database administration, PowerShell’s versatility shines through its ability to save outputs in various relevant file formats. Tasks such as exporting data to CSV or generating reports in HTML format, which can be cumbersome when done manually, are made simple and efficient with PowerShell."
            ]
        },
        {
            "cell_type": "code",
            "execution_count": null,
            "metadata": {
                "dotnet_interactive": {
                    "language": "pwsh"
                },
                "polyglot_notebook": {
                    "kernelName": "pwsh"
                },
                "vscode": {
                    "languageId": "polyglot-notebook"
                }
            },
            "outputs": [
                {
                    "name": "stdout",
                    "output_type": "stream",
                    "text": [
                        "\n",
                        "\u001b[95mSQL Credential\u001b[0m\n",
                        "Please enter the username and password for the SQL Auth account\n",
                        "\n"
                    ]
                }
            ],
            "source": [
                "<# Credentials and Targets#>\n",
                "$SQLInstance =  \"Seis-Work,1433\", \"Seis-Work,1434\", \"Seis-Work,1435\", \"Seis-Work,1436\", \"Seis-Work,1437\", \"Presenter\"\n",
                "$cred = $host.ui.PromptForCredential(\"SQL Credential\", \"Please enter the username and password for the SQL Auth account\", \"sa\", \"\")\n",
                "\n",
                "Set-DbatoolsConfig -FullName sql.connection.trustcert -Value $true -register \n",
                "\n",
                "$DemoDir = \"C:\\Temp\\Demo\"\n",
                "If(!(test-path -PathType container $DemoDir))   \n",
                "    { New-Item -ItemType Directory -Path $DemoDir   | Out-Null }\n"
            ]
        },
        {
            "cell_type": "code",
            "execution_count": null,
            "metadata": {
                "dotnet_interactive": {
                    "language": "pwsh"
                },
                "polyglot_notebook": {
                    "kernelName": "pwsh"
                },
                "vscode": {
                    "languageId": "polyglot-notebook"
                }
            },
            "outputs": [
                {
                    "name": "stdout",
                    "output_type": "stream",
                    "text": [
                        "\u001b[92mInstance tracking...\u001b[0m\r\n"
                    ]
                }
            ],
            "source": [
                "<# Code to create the Instance tracking csv #> \n",
                "\n",
                "\n",
                "Write-Host \"Instance tracking...\" -ForegroundColor Green\n",
                "Foreach ($inst in $SQLInstance) {\n",
                "$serverdetails = Invoke-dbaquery -SqlInstance $Inst -SqlCredential $cred -Query \"\n",
                "IF OBJECT_ID('tempdb..#ola') IS NOT NULL\n",
                "DROP TABLE #ola\n",
                "    CREATE TABLE #ola (\n",
                "    DbName NVARCHAR(100)\n",
                "    , Ola_Version nvarchar(10)\n",
                "    )\n",
                "        INSERT #ola\n",
                "        EXEC sp_MSforeachdb '\n",
                "        USE [?]\n",
                "        SELECT DISTINCT db_name(), CASE WHEN CHARINDEX(N''--// Version: '', OBJECT_DEFINITION(obj.[object_id])) > 0 \n",
                "        THEN CAST(LEFT(SUBSTRING(OBJECT_DEFINITION(obj.[object_id]),CHARINDEX(N''--// Version: '',OBJECT_DEFINITION(obj.[object_id])) + LEN(N''--// Version: '') + 1, 19),10) AS NVARCHAR(10)) END \n",
                "        FROM sys.objects AS obj\n",
                "        INNER JOIN sys.schemas AS sch \n",
                "        ON obj.[schema_id] = sch.[schema_id]\n",
                "        WHERE sch.[name] = N''dbo''\n",
                "        AND obj.[name] IN (N''CommandExecute'')'\n",
                "\n",
                "\n",
                "IF OBJECT_ID('tempdb..#FR') IS NOT NULL\n",
                "DROP TABLE #FR\n",
                "    CREATE TABLE #FR (\n",
                "    dbName NVARCHAR(100)\n",
                "    , FRDate nvarchar(10)\n",
                "    )\n",
                "        INSERT #FR\n",
                "        EXEC sp_MSforeachdb '\n",
                "        USE [?]\n",
                "        SELECT DISTINCT db_name(), \n",
                "        CAST(CAST(create_date as DATE) as NVARCHAR(10))\n",
                "        FROM sys.objects AS obj\n",
                "        WHERE obj.[name] LIKE ''SP_Blitz'''\n",
                "\n",
                "        IF EXISTS (SELECT * FROM sysobjects WHERE type = 'P' AND name = 'sp_Blitz')\n",
                "        BEGIN\n",
                "        DECLARE @VersionOutput VARCHAR(30), @VersionDateOutput DATETIME;\n",
                "        EXEC sp_Blitz \n",
                "        @Version = @VersionOutput OUTPUT, \n",
                "        @VersionDate = @VersionDateOutput OUTPUT,\n",
                "        @VersionCheckMode = 1;\n",
                "        END \n",
                "\n",
                "        DECLARE @num_logs int;\n",
                "        EXEC xp_instance_regread N'HKEY_LOCAL_MACHINE',N'Software\\Microsoft\\MSSQLServer\\MSSQLServer',N'NumErrorLogs',@num_logs OUTPUT;\n",
                "\n",
                "\n",
                "SELECT  \n",
                "    getdate() as Run_Date\n",
                "    ,   SERVERPROPERTY('MachineName') AS Machine_Name\n",
                "    ,   SERVERPROPERTY('ServerName') AS Instance_Name\n",
                "    ,   CASE \n",
                "            WHEN Convert(nvarchar(20),SERVERPROPERTY('ProductVersion')) LIKE '16.%' THEN 2022\n",
                "            WHEN Convert(nvarchar(20),SERVERPROPERTY('ProductVersion')) LIKE '15.%' THEN 2019\n",
                "            WHEN Convert(nvarchar(20),SERVERPROPERTY('ProductVersion')) LIKE '14.%' THEN 2017\n",
                "            WHEN Convert(nvarchar(20),SERVERPROPERTY('ProductVersion')) LIKE '13.%' THEN 2016\n",
                "            WHEN Convert(nvarchar(20),SERVERPROPERTY('ProductVersion')) LIKE '12.%' THEN 2014\n",
                "            WHEN Convert(nvarchar(20),SERVERPROPERTY('ProductVersion')) LIKE '11.%' THEN 2012\n",
                "            WHEN Convert(nvarchar(20),SERVERPROPERTY('ProductVersion')) LIKE '10.%' THEN 2008\n",
                "            ELSE NULL \n",
                "        END AS [SQL_Version]\n",
                "    ,   SERVERPROPERTY('Edition') AS SQL_Edition\n",
                "    ,   SERVERPROPERTY('ProductLevel') AS Product_Level\n",
                "    ,   SERVERPROPERTY('ProductUpdateLevel') AS Update_Level\n",
                "    ,   SERVERPROPERTY('ProductVersion') AS SQL_Build\n",
                "    ,   (SELECT Ola_Version FROM #ola WHERE DbName in ('DB_Administration','Maintenance','DBA')) AS Ola_Version\n",
                "    ,   (SELECT CAST(@VersionOutput as NVARCHAR(5)) FROM #FR WHERE dbName in ('master')) AS First_Responder_Version\n",
                "    ,   (SELECT service_account FROM sys.dm_server_services WHERE servicename like 'SQL Server (%') as SQL_Account\n",
                "    ,   (SELECT service_account FROM sys.dm_server_services WHERE servicename like 'SQL Server Agent%') as SQL_Agent_Account\n",
                "    ,   (SELECT datediff(day, sqlserver_start_time, getdate()) FROM sys.dm_os_sys_info) as Uptime_Days\n",
                "    ,   (SELECT is_disabled FROM sys.server_principals WHERE sid = 0x01 ) as is_sa_disabled\n",
                "    ,   CONNECTIONPROPERTY('local_net_address') AS local_net_address\n",
                "    ,   CONNECTIONPROPERTY('local_tcp_port') AS local_tcp_port\n",
                "    ,   @num_logs as num_error_logs\n",
                "    ,   GETDATE() AS Collection_Date\n",
                "\n",
                "\" \n",
                "\n",
                "    If(!(test-path $CSVpath)){\n",
                "        $ServerDetails | Export-Csv -Path $CSVpath -Delimiter \",\" -NoTypeInformation\n",
                "    } ELSE {\n",
                "        $ServerDetails | Export-Csv -Path $CSVpath -Delimiter \",\" -NoTypeInformation -Append\n",
                "    }\n",
                "    }\n"
            ]
        },
        {
            "attachments": {},
            "cell_type": "markdown",
            "metadata": {
                "azdata_cell_guid": "7a8abb7b-cfab-4eaa-8d3b-ef1e634cc876",
                "language": "powershell"
            },
            "source": [
                "![](data:image/png;base64,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)"
            ]
        },
        {
            "attachments": {},
            "cell_type": "markdown",
            "metadata": {
                "azdata_cell_guid": "f1cfd257-50fd-4d70-8d32-35c410d5ff26",
                "language": "powershell"
            },
            "source": [
                "## 3.2 Advanced PowerShell Automation: Loading and Processing Data\n",
                "\n",
                "PowerShell can replace values, modify data, and load data into a sql server instance, as well as calling follow-up stored procedures to process the data once loaded."
            ]
        },
        {
            "cell_type": "code",
            "execution_count": 34,
            "metadata": {
                "dotnet_interactive": {
                    "language": "pwsh"
                },
                "polyglot_notebook": {
                    "kernelName": "pwsh"
                },
                "vscode": {
                    "languageId": "polyglot-notebook"
                }
            },
            "outputs": [
                {
                    "name": "stdout",
                    "output_type": "stream",
                    "text": [
                        "WARNING: [13:34:10][New-DbaDatabase] Database Admin already exists on Presenter\r\n"
                    ]
                },
                {
                    "data": {
                        "text/plain": []
                    },
                    "metadata": {},
                    "output_type": "display_data"
                },
                {
                    "name": "stdout",
                    "output_type": "stream",
                    "text": [
                        "\n",
                        "\u001b[32;1mComputerName  : \u001b[0mPresenter\n",
                        "\u001b[32;1mInstanceName  : \u001b[0mMSSQLSERVER\n",
                        "\u001b[32;1mSqlInstance   : \u001b[0mPresenter\n",
                        "\u001b[32;1mDatabase      : \u001b[0mAdmin\n",
                        "\u001b[32;1mTable         : \u001b[0mHome-lab_InstanceTracking\n",
                        "\u001b[32;1mSchema        : \u001b[0mdbo\n",
                        "\u001b[32;1mRowsCopied    : \u001b[0m6\n",
                        "\u001b[32;1mElapsed       : \u001b[0m173.02 ms\n",
                        "\u001b[32;1mRowsPerSecond : \u001b[0m34.9\n",
                        "\u001b[32;1mPath          : \u001b[0mC:\\Temp\\Demo\\Home-lab_InstanceTracking.csv\n",
                        "\n"
                    ]
                },
                {
                    "ename": "Error",
                    "evalue": "Database Admin already exists on Presenter",
                    "output_type": "error",
                    "traceback": [
                        "Database Admin already exists on Presenter"
                    ]
                }
            ],
            "source": [
                "New-DbaDatabase -SqlInstance \"Presenter\" -name \"Admin\" -SqlCredential $cred\n",
                "\n",
                "Import-DbaCsv -Path \"C:\\Temp\\Demo\\Home-lab_InstanceTracking.csv\"  -SqlInstance \"Presenter\" -SqlCredential $cred -Database \"Admin\" -AutoCreateTable\n"
            ]
        },
        {
            "cell_type": "code",
            "execution_count": 35,
            "metadata": {
                "dotnet_interactive": {
                    "language": "pwsh"
                },
                "polyglot_notebook": {
                    "kernelName": "pwsh"
                },
                "vscode": {
                    "languageId": "polyglot-notebook"
                }
            },
            "outputs": [
                {
                    "name": "stdout",
                    "output_type": "stream",
                    "text": [
                        "\n",
                        "\u001b[32;1mMachine_Name\u001b[0m\u001b[32;1m Instance_Name\u001b[0m\u001b[32;1m SQL_Version\u001b[0m\u001b[32;1m SQL_Edition               \u001b[0m\u001b[32;1m Product_Level\u001b[0m\u001b[32;1m Update_Level\u001b[0m\u001b[32;1m SQL_Bu\u001b[0m\n",
                        "\u001b[32;1m            \u001b[0m\u001b[32;1m              \u001b[0m\u001b[32;1m            \u001b[0m\u001b[32;1m                           \u001b[0m\u001b[32;1m              \u001b[0m\u001b[32;1m             \u001b[0m\u001b[32;1m ild\u001b[0m\n",
                        "\u001b[32;1m------------\u001b[0m \u001b[32;1m-------------\u001b[0m \u001b[32;1m-----------\u001b[0m \u001b[32;1m-----------               \u001b[0m \u001b[32;1m-------------\u001b[0m \u001b[32;1m------------\u001b[0m \u001b[32;1m------\u001b[0m\n",
                        "b34273dee487 SQL1          2022        Developer Edition (64-bit) RTM           CU17         16.0.…\n",
                        "ab8d15360540 SQL2          2022        Developer Edition (64-bit) RTM           CU17         16.0.…\n",
                        "b80f4016592c SQL3          2022        Developer Edition (64-bit) RTM           CU17         16.0.…\n",
                        "d67d27d52bf5 SQL4          2019        Developer Edition (64-bit) RTM           CU32         15.0.…\n",
                        "44147f246138 SQL5          2017        Developer Edition (64-bit) RTM           CU31         14.0.…\n",
                        "Presenter    Presenter     2022        Developer Edition (64-bit) RTM                        16.0.…\n",
                        "\n"
                    ]
                }
            ],
            "source": [
                "<# Code to show that the tabel is present - Using Invoke-DBAquery from Dbatools #> \n",
                "\n",
                "invoke-dbaquery -sqlinstance \"Presenter\" -SQLcredential $cred -query  \"\n",
                "\n",
                "\tSELECT [Machine_Name]\n",
                "      ,[Instance_Name]\n",
                "      ,[SQL_Version]\n",
                "      ,[SQL_Edition]\n",
                "      ,[Product_Level]\n",
                "      ,[Update_Level]\n",
                "      ,[SQL_Build]\n",
                "      ,[Ola_Version]\n",
                "      ,[First_Responder_Version]\n",
                "      ,[SQL_Account]\n",
                "      ,[SQL_Agent_Account]\n",
                "      ,[Uptime_Days]\n",
                "      ,[is_sa_disabled]\n",
                "      ,[local_net_address]\n",
                "      ,[local_tcp_port]\n",
                "      ,[num_error_logs]\n",
                "      ,[Collection_Date]\n",
                "  FROM [Admin].[dbo].[Home-lab_InstanceTracking]\n",
                "\n",
                "        \n",
                "\" | Format-Table"
            ]
        },
        {
            "cell_type": "code",
            "execution_count": 36,
            "metadata": {
                "dotnet_interactive": {
                    "language": "pwsh"
                },
                "polyglot_notebook": {
                    "kernelName": "pwsh"
                },
                "vscode": {
                    "languageId": "polyglot-notebook"
                }
            },
            "outputs": [
                {
                    "name": "stdout",
                    "output_type": "stream",
                    "text": [
                        "\n",
                        "\u001b[32;1mmachine_name\u001b[0m\u001b[32;1m Instance_name\u001b[0m\u001b[32;1m Column1\u001b[0m\n",
                        "\u001b[32;1m------------\u001b[0m \u001b[32;1m-------------\u001b[0m \u001b[32;1m-------\u001b[0m\n",
                        "b34273dee487 SQL1          Sa is enabled for login - please correct immediately\n",
                        "ab8d15360540 SQL2          Sa is enabled for login - please correct immediately\n",
                        "b80f4016592c SQL3          Sa is enabled for login - please correct immediately\n",
                        "d67d27d52bf5 SQL4          Sa is enabled for login - please correct immediately\n",
                        "44147f246138 SQL5          Sa is enabled for login - please correct immediately\n",
                        "Presenter    Presenter     Sa is enabled for login - please correct immediately\n",
                        "\n"
                    ]
                }
            ],
            "source": [
                "<# query to get action items from the data #>\n",
                "\n",
                "Invoke-DbaQuery -SqlInstance \"Presenter\" -SqlCredential $cred -Query \"\n",
                "USE Admin\n",
                "SELECT \n",
                "machine_name\n",
                ",\tInstance_name\n",
                ",   'Sa is enabled for login - please correct immediately'\n",
                "FROM [ADMIN].[dbo].[Home-lab_InstanceTracking]\n",
                "Where is_sa_disabled = 'False'\n",
                "\" "
            ]
        },
        {
            "cell_type": "code",
            "execution_count": null,
            "metadata": {
                "dotnet_interactive": {
                    "language": "pwsh"
                },
                "polyglot_notebook": {
                    "kernelName": "pwsh"
                },
                "vscode": {
                    "languageId": "polyglot-notebook"
                }
            },
            "outputs": [
                {
                    "name": "stdout",
                    "output_type": "stream",
                    "text": [
                        "C:\\temp\\Demo Directory was removed\n",
                        "Environment cleaned\n"
                    ]
                }
            ],
            "source": [
                "<# Environment Cleanup #>\n",
                "Remove-Item -Path $CSVpath \n",
                "\n",
                "If((test-path -PathType container $outputPath)) \n",
                "{ \n",
                "    remove-Item -Path $outputPath\n",
                "    Write-Host \"$outputPath Directory was removed\"\n",
                "}\n",
                "\n",
                "Invoke-DbaQuery -SqlInstance \"Presenter\" -SqlCredential $cred -Query \"\n",
                "    DROP DATABASE ADMIN\n",
                "\" \n",
                "\n",
                "Write-Host \"Environment cleaned\""
            ]
        },
        {
            "cell_type": "code",
            "execution_count": null,
            "metadata": {
                "dotnet_interactive": {
                    "language": "pwsh"
                },
                "polyglot_notebook": {
                    "kernelName": "pwsh"
                },
                "vscode": {
                    "languageId": "polyglot-notebook"
                }
            },
            "outputs": [],
            "source": [
                "<# Create a report and task inside of task scheduler to check recent job runs #>\n",
                "\n",
                "\n",
                "    ## DEPENDENCIES\n",
                "    # 1. Dbatools\n",
                "    # 2. Service account acctess to all monitored servers\n",
                "\n",
                "    <# Necessary Variables #>\n",
                "    $reportname = \"Job Run Report\"\n",
                "\n",
                "    $ClientName = 'Test-Lab' \n",
                "    $jobserver = 'Seis-Work'\n",
                "    $monitoringTarget = $sqlinstance\n",
                "\n",
                "    $ServiceAccount = $host.ui.PromptForCredential(\"Task Scheduler account\", \"Please enter the domainname\\username and password for the service account that will run the tasks (password expiry = never is ideal). \", \"DOMAIN\\Account\", \"\")\n",
                "\n",
                "    $EmailRecipients = 'David.seis@straightpathsql.com;' #separate with semicolons\n",
                "\n",
                "    Write-Host \"Creating Powershell File...\" -ForegroundColor Green\n",
                "    New-Item -Path \"\\\\$jobserver\\C`$\\StraightPath\\Reports\" -Name \"$reportname`Script.ps1\" -ItemType 'file' -value \"\n",
                "        \n",
                "    <# Create C:\\StraightPath\\Reports for all the reports to go into#>\n",
                "        `$dir = `\"\\\\$jobserver\\C$\\StraightPath\\Reports`\"\n",
                "        If(!(test-path -PathType container `$dir))\n",
                "        {\n",
                "            New-Item -ItemType Directory -Path `$path\n",
                "        }\n",
                "        `$path=`\"\\\\$jobserver\\C$\\StraightPath\\Reports\\$clientname`_$reportname`$(get-date -f MM-dd-yyyy).htm`\"\n",
                "\n",
                "        `$SQLInstance= `\"$monitoringTarget`\"\n",
                "\n",
                "    <#Define an Empty Array to Hold all of the HTML Fragments #>\n",
                "        `$fragments = @()\n",
                "\n",
                "    #Define the HTML style\n",
                "        `$head = `\"\n",
                "            <style>\n",
                "            body { background-color:#FAFAFA; font-family:Arial; font-size:12pt; }\n",
                "            td, th { border:1px solid black; border-collapse:collapse; }\n",
                "            th { color:white; background-color:black; }\n",
                "            table, tr, td, th { padding: 2px; margin: 0px }\n",
                "            tr:nth-child(odd) {background-color: lightgray}\n",
                "            table { margin-left:50px; }\n",
                "            </style>\n",
                "\n",
                "            <H2>Daily Job Run report</H2>\n",
                "            <H3>Automated powershell script from Straight Path IT Solutions, LLC.</H3>\n",
                "            `\"\n",
                "\n",
                "\n",
                "        `$results = Invoke-DbaQuery -SQLInstance `$SQLInstance -Query `\"\n",
                "        WITH jobhistory as (   \n",
                "            SELECT    job_id,\n",
                "                        Max(instance_id) instance_id\n",
                "            FROM      msdb.dbo.sysjobhistory\n",
                "            WHERE     step_id = 0\n",
                "                        AND run_status is not null\n",
                "                        \n",
                "            GROUP BY job_id\n",
                "            --   order by run_status asc\n",
                "            )\n",
                "            SELECT  --  j.job_id,\n",
                "                    j.name,\n",
                "                    CASE sjh.run_status\n",
                "                WHEN 0 THEN 'Failed'\n",
                "                WHEN 1 THEN 'Succeeded'\n",
                "                WHEN 2 THEN 'Retry'\n",
                "                WHEN 3 THEN 'Canceled'\n",
                "                WHEN 4 THEN 'In Progress'\n",
                "                else 'boogy man'\n",
                "            END RunStatus,\n",
                "            --  jh.run_status,\n",
                "            last_run_time =  (msdb.dbo.agent_datetime(run_date, run_time)),\n",
                "                        last_end_time = (dateadd(ss,run_duration % 100 + ROUND((run_duration % 10000) / 100, 0, 0) * 60 + ROUND((run_duration % 1000000) / 10000, 0, 0) * 3600 ,msdb.dbo.agent_datetime(run_date, run_time)))\n",
                "            --  ,j.enabled \n",
                "            \n",
                "            ,\n",
                "            CASE SJ.next_run_date\n",
                "                        WHEN 0 THEN cast('n/a' as char(10))\n",
                "                        ELSE convert(char(10), convert(datetime, convert(char(8),SJ.next_run_date)),120)  + ' ' + left(stuff((stuff((replicate('0', 6 - len(next_run_time)))+ convert(varchar(6),next_run_time),3,0,':')),6,0,':'),8)\n",
                "                    END AS NextRunTime\n",
                "            --           jh.duration\n",
                "            FROM      msdb.dbo.sysjobs j\n",
                "                    LEFT OUTER JOIN jobhistory jh\n",
                "                    ON j.job_id = jh.job_id\n",
                "                    join msdb..sysjobhistory sjh\n",
                "                    on jh.instance_id = sjh.instance_id\n",
                "                    left join msdb.dbo.sysjobschedules SJ on J.job_id = SJ.job_id  \n",
                "            left join msdb.dbo.sysschedules SS on SS.schedule_id = SJ.schedule_id\n",
                "            \n",
                "            where sjh.run_status is not null\n",
                "                and j.enabled = 1\n",
                "            ORDER BY Runstatus,last_end_time desc \n",
                "        \n",
                "        `\" | Select-object * -ExcludeProperty RowError, RowState, Table, ItemArray, HasErrors | ConvertTo-Html | Out-String\n",
                "\n",
                "        `$fragments += `\"<br>$reportname</i>`\"\n",
                "        `$fragments += `$results \n",
                "\n",
                "        ConvertTo-HTML -Head `$head -Body `$fragments -PostContent `\"<br><br><i>report generated: `$(Get-Date)</i> from $jobserver.`\" | Out-File -FilePath `$path -Encoding ascii\n",
                "\n",
                "        `$output = ConvertTo-HTML -Head `$head -Body `$fragments -PostContent `\"<br><br><i>Report generated on `$(Get-Date)</i> via powershell on $jobserver.`\" | Out-File -FilePath `$path -Encoding ascii\n",
                "\n",
                "        #Define mail variables\n",
                "        `$subject = `\"$Reportname : `$(Get-Date -f MM-dd-yyyy)`\" \n",
                "\n",
                "        Write-Host `\"Sending email...`\" -ForegroundColor Green\n",
                "        [Net.ServicePointManager]::SecurityProtocol = [Net.SecurityProtocolType]::Tls12\n",
                "        `$Parameters = @{\n",
                "            FromAddress     = `\"alertinbox@straightpathsql.com`\"\n",
                "            ToAddress       = `\"$EmailRecipients`\"\n",
                "            CCAddress       = `\"alertinbox@straightpathsql.com`\"\n",
                "            Subject         = `\"$reportname for $Client_Name attached!`\"\n",
                "            Body            = `\"Please find the $reportname for $Client_Name, attached!`\"\n",
                "            Token           =  Unprotect-CmsMessage -Path C:\\temp\\Demo\\Sendgrid.txt\n",
                "            FromName        = `\"StraightPathSendGrid`\"\n",
                "            ToName          = `\"David`\"\n",
                "        }\n",
                "        Send-PSSendGridMail @Parameters\n",
                "        \"\n",
                "\n",
                "\n",
                "    Write-Host \"Creating XML File...\" -ForegroundColor Green\n",
                "    New-Item -Path \"\\\\$jobserver\\C$\\Straightpath\\Reports\" -Name \"$reportname`_Task.xml\" -ItemType 'file' -value \"<?xml version=`\"1.0`\" encoding=`\"UTF-16`\"?>\n",
                "    <Task version=`\"1.2`\" xmlns=`\"http://schemas.microsoft.com/windows/2004/02/mit/task`\">\n",
                "        <RegistrationInfo>\n",
                "        <Date>2022-02-23T12:59:09.8081565</Date>\n",
                "        <Author>David Seis, Straight Path IT Solutions, LLC.</Author>\n",
                "        <URI>\\$reportname</URI>\n",
                "    </RegistrationInfo>\n",
                "    <Triggers>\n",
                "    <CalendarTrigger>\n",
                "        <StartBoundary>2023-05-31T08:00:00</StartBoundary>\n",
                "        <Enabled>true</Enabled>\n",
                "        <ScheduleByDay>\n",
                "        <DaysInterval>1</DaysInterval>\n",
                "        </ScheduleByDay>\n",
                "    </CalendarTrigger>\n",
                "    <CalendarTrigger>\n",
                "        <StartBoundary>2023-05-31T07:00:00</StartBoundary>\n",
                "        <Enabled>true</Enabled>\n",
                "        <ScheduleByDay>\n",
                "        <DaysInterval>1</DaysInterval>\n",
                "        </ScheduleByDay>\n",
                "    </CalendarTrigger>\n",
                "    <CalendarTrigger>\n",
                "        <StartBoundary>2023-05-31T09:00:00</StartBoundary>\n",
                "        <Enabled>true</Enabled>\n",
                "        <ScheduleByDay>\n",
                "        <DaysInterval>1</DaysInterval>\n",
                "        </ScheduleByDay>\n",
                "    </CalendarTrigger>\n",
                "    </Triggers>\n",
                "    <Principals>\n",
                "        <Principal id=`\"Author`\">\n",
                "        <UserId>$($ServiceAccount.GetNetworkCredential().username)</UserId>\n",
                "        <LogonType>Password</LogonType>\n",
                "        <RunLevel>HighestAvailable</RunLevel>\n",
                "        </Principal>\n",
                "    </Principals>\n",
                "    <Settings>\n",
                "        <MultipleInstancesPolicy>IgnoreNew</MultipleInstancesPolicy>\n",
                "        <DisallowStartIfOnBatteries>true</DisallowStartIfOnBatteries>\n",
                "        <StopIfGoingOnBatteries>true</StopIfGoingOnBatteries>\n",
                "        <AllowHardTerminate>true</AllowHardTerminate>\n",
                "        <StartWhenAvailable>false</StartWhenAvailable>\n",
                "        <RunOnlyIfNetworkAvailable>false</RunOnlyIfNetworkAvailable>\n",
                "        <IdleSettings>\n",
                "        <StopOnIdleEnd>true</StopOnIdleEnd>\n",
                "        <RestartOnIdle>false</RestartOnIdle>\n",
                "        </IdleSettings>\n",
                "        <AllowStartOnDemand>true</AllowStartOnDemand>\n",
                "        <Enabled>true</Enabled>\n",
                "        <Hidden>false</Hidden>\n",
                "        <RunOnlyIfIdle>false</RunOnlyIfIdle>\n",
                "        <WakeToRun>false</WakeToRun>\n",
                "        <ExecutionTimeLimit>P3D</ExecutionTimeLimit>\n",
                "        <Priority>7</Priority>\n",
                "    </Settings>\n",
                "    <Actions Context=`\"Author`\">\n",
                "    <Exec>\n",
                "        <Command>Powershell.exe</Command>\n",
                "        <Arguments>-ExecutionPolicy Unrestricted -File `\"C:\\StraightPath\\Reports\\$reportname`_Script.ps1`\"</Arguments>\n",
                "    </Exec>\n",
                "    </Actions>\n",
                "    </Task>\"\n",
                "\n",
                "    Register-ScheduledTask -Xml (get-content \"\\\\$jobserver\\C$\\StraightPath\\Reports\\$reportname`_Task.xml\" | out-string) -Taskname \"_REPORT_$reportname\" -User ($ServiceAccount.GetNetworkCredential().username) -Password $($ServiceAccount.GetNetworkCredential().Password) \n"
            ]
        },
        {
            "attachments": {},
            "cell_type": "markdown",
            "metadata": {
                "azdata_cell_guid": "963110ef-b0be-40d5-9472-bc5799468d07",
                "language": "powershell"
            },
            "source": [
                "## 3.4 Advanced PowerShell Automation: Tooling\n",
                "\n",
                "Using powershell to simplify repetitive but important tasks such as patching, keeping tools up to date and making sure systems are meeting internal compliance standards is a time saving effort. There is some time to building and testing these scripts, but the time dividends are remarkable."
            ]
        },
        {
            "cell_type": "code",
            "execution_count": null,
            "metadata": {
                "dotnet_interactive": {
                    "language": "pwsh"
                },
                "polyglot_notebook": {
                    "kernelName": "pwsh"
                },
                "vscode": {
                    "languageId": "polyglot-notebook"
                }
            },
            "outputs": [],
            "source": [
                "<# SSMS update script #>\n",
                "    \n",
                "    $uninstallold = 0\n",
                "\n",
                "    <# Current install audit #>    \n",
                "    Get-WmiObject Win32_product | Where-Object {$_.name -eq \"SQL Server Management Studio\"} | ForEach-object {\n",
                "        Write-Host \"SSMS: Currently Installed Versions of SSMS [Version: $($_.Version)]`...\" -ForegroundColor Green\n",
                "    }\n",
                "\n",
                "\n",
                "    <# New Installer download #>\n",
                "    $ssmsUrl = \"https://aka.ms/ssmsfullsetup\"\n",
                "    $destination = \"C:\\Temp\\ssms_installer.exe\"\n",
                "\n",
                "    try {\n",
                "        Write-Host \"SSMS: Downloading newest SSMS Installer...\" -ForegroundColor Green\n",
                "        $WebClient = New-Object System.Net.WebClient\n",
                "        $webclient.DownloadFile($ssmsUrl, $destination)\n",
                "    }\n",
                "    catch {\n",
                "        Write-Host \"Unable to download the latest SSMS installer, please download and install manually.\" -ForegroundColor Red -BackgroundColor White\n",
                "        return\n",
                "    }\n",
                "\n",
                "    IF($uninstallold -eq 1) {\n",
                "    <# Installer was successfully downloaded, uninstall old ssms versions #>\n",
                "    Write-Host \"SSMS: SSMS Update flag was on, enumerating SSMS installs...\" -ForegroundColor Green\n",
                "        Invoke-Command -ScriptBlock {\n",
                "            Get-WmiObject Win32_product | Where-Object {$_.name -eq \"SQL Server Management Studio\"} | ForEach-object {\n",
                "                Write-Host \"SSMS: Uninstalling SSMS [Version: $($_.Version)]`...\" -ForegroundColor Green\n",
                "                $_.Uninstall() | Out-null\n",
                "            }\n",
                "        }\n",
                "    }\n",
                "\n",
                "    # Install SSMS silently\n",
                "    $install_path = \"`\"C:\\Program Files (x86)\\Microsoft SQL Server Management Studio 20`\"\"\n",
                "    $params = \" /Install /Passive SSMSInstallRoot=$install_path /quiet\"\n",
                "            \n",
                "    Write-Host \"SSMS: Installing SSMS...\" -ForegroundColor Green\n",
                "    Start-Process -FilePath $destination -ArgumentList $params -Wait\n",
                "    Remove-Item $destination\n",
                "    #Write-Host \"SSMS: Server restart is required to implement changes fully\" -ForegroundColor DarkRed\n",
                "    Invoke-Command -ScriptBlock {\n",
                "        Get-WmiObject Win32_product | Where-Object {$_.name -eq \"SQL Server Management Studio\"} | ForEach-object {\n",
                "            Write-Host \"SSMS: Currently Installed Versions of SSMS [Version: $($_.Version)]`...\" -ForegroundColor Green\n",
                "        }\n",
                "    }"
            ]
        },
        {
            "attachments": {},
            "cell_type": "markdown",
            "metadata": {
                "azdata_cell_guid": "d9125124-ab84-473f-8034-8e15cea684fb",
                "language": "powershell"
            },
            "source": [
                "## 3.3 Advanced PowerShell Automation: Task Scheduling\n",
                "\n",
                "The ability to create a script and then call them via tasks cheduler jobs is extermely useful, especially when you consider the versatility and range of Powershell, and th ebreadth of data you can access for these reports.\n",
                "\n",
                "This script works but requires an environment where you have access to a service account that has log on as batch service as well as access to the targeted servers."
            ]
        }
    ],
    "metadata": {
        "kernelspec": {
            "display_name": ".NET (C#)",
            "language": "C#",
            "name": ".net-csharp"
        },
        "language_info": {
            "codemirror_mode": "shell",
            "file_extension": ".ps1",
            "mimetype": "text/x-sh",
            "name": "powershell"
        },
        "polyglot_notebook": {
            "kernelInfo": {
                "defaultKernelName": "csharp",
                "items": [
                    {
                        "aliases": [],
                        "name": "csharp"
                    }
                ]
            }
        }
    },
    "nbformat": 4,
    "nbformat_minor": 2
}
