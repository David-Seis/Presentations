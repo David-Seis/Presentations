{
 "cells": [
  {
   "cell_type": "markdown",
   "metadata": {},
   "source": []
  },
  {
   "cell_type": "code",
   "execution_count": null,
   "metadata": {
    "dotnet_interactive": {
     "language": "pwsh"
    },
    "polyglot_notebook": {
     "kernelName": "pwsh"
    },
    "vscode": {
     "languageId": "polyglot-notebook"
    }
   },
   "outputs": [],
   "source": [
    "docker run --name SQL1 `\n",
    "    -e \"ACCEPT_EULA=Y\" `\n",
    "    -e \"MSSQL_SA_PASSWORD=Str0ngP@sSw0rd !\" `\n",
    "    -e MSSQL_PID=Enterprise `\n",
    "    -e \"MSSQL_AGENT_ENABLED=true\" `\n",
    "    -p 1433:1433 `\n",
    "    -d mcr.microsoft.com/mssql/server:2022-latest\n",
    "\n",
    "docker run --name SQL2 `\n",
    "    -e \"ACCEPT_EULA=Y\" `\n",
    "    -e \"MSSQL_SA_PASSWORD=Str0ngP@sSw0rd !\" `\n",
    "    -e MSSQL_PID=Enterprise `\n",
    "    -e \"MSSQL_AGENT_ENABLED=true\" `\n",
    "    -p 1434:1433 `\n",
    "    -d mcr.microsoft.com/mssql/server:2022-latest\n",
    "\n",
    "docker run --name SQL3 `\n",
    "    -e \"ACCEPT_EULA=Y\" `\n",
    "    -e \"MSSQL_SA_PASSWORD=Str0ngP@sSw0rd !\" `\n",
    "    -e MSSQL_PID=Enterprise `\n",
    "    -e \"MSSQL_AGENT_ENABLED=true\" `\n",
    "    -p 1435:1433 `\n",
    "    -d mcr.microsoft.com/mssql/server:2022-latest\n"
   ]
  },
  {
   "cell_type": "code",
   "execution_count": null,
   "metadata": {
    "vscode": {
     "languageId": "polyglot-notebook"
    }
   },
   "outputs": [],
   "source": [
    "docker run -e \"ACCEPT_EULA=Y\" -e \"MSSQL_SA_PASSWORD=Str0ngP@sSw0rd !\" -p 1433:1433 -d mcr.microsoft.com/mssql/server:2019-latest\n",
    "docker run -e \"ACCEPT_EULA=Y\" -e \"MSSQL_SA_PASSWORD=Str0ngP@sSw0rd !\" -p 1433:1433 -d mcr.microsoft.com/mssql/server:2017-latest\n"
   ]
  },
  {
   "cell_type": "code",
   "execution_count": null,
   "metadata": {
    "vscode": {
     "languageId": "polyglot-notebook"
    }
   },
   "outputs": [],
   "source": [
    "docker stop SQL1\n",
    "docker stop SQL2\n",
    "docker stop SQL3"
   ]
  },
  {
   "cell_type": "code",
   "execution_count": null,
   "metadata": {
    "vscode": {
     "languageId": "polyglot-notebook"
    }
   },
   "outputs": [],
   "source": [
    "docker start SQL1\n",
    "docker start SQL2\n",
    "docker start SQL3"
   ]
  },
  {
   "cell_type": "code",
   "execution_count": null,
   "metadata": {
    "vscode": {
     "languageId": "polyglot-notebook"
    }
   },
   "outputs": [],
   "source": [
    "docker rm SQL1\n",
    "docker rm SQL2\n",
    "docker rm SQL3"
   ]
  }
 ],
 "metadata": {
  "kernelspec": {
   "display_name": ".NET (PowerShell)",
   "language": "PowerShell",
   "name": ".net-pwsh"
  },
  "language_info": {
   "name": "powershell"
  },
  "polyglot_notebook": {
   "kernelInfo": {
    "defaultKernelName": "pwsh",
    "items": [
     {
      "aliases": [],
      "languageName": "pwsh",
      "name": "pwsh"
     }
    ]
   }
  }
 },
 "nbformat": 4,
 "nbformat_minor": 2
}
