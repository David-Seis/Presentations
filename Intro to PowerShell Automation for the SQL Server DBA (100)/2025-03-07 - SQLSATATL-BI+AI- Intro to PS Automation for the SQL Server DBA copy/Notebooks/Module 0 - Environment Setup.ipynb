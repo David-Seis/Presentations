{
 "cells": [
  {
   "cell_type": "markdown",
   "metadata": {},
   "source": [
    "Building the target Docker containers for demonstrations"
   ]
  },
  {
   "cell_type": "code",
   "execution_count": 2,
   "metadata": {
    "dotnet_interactive": {
     "language": "pwsh"
    },
    "polyglot_notebook": {
     "kernelName": "pwsh"
    },
    "vscode": {
     "languageId": "polyglot-notebook"
    }
   },
   "outputs": [
    {
     "name": "stdout",
     "output_type": "stream",
     "text": [
      "b34273dee487a33bf915b6e91dcec2c8b36b8f3cd7318de75438a98edf6f93d1\n",
      "ab8d15360540cef129fdb9acb69e69ea3f6ec24f81a9e6385b93a8892d93773a\n",
      "b80f4016592ce7b6ac3b4f420a2c2473f5046c5f589834707d2e011ac2ee3c77\n",
      "d67d27d52bf5c873ecd02451270a001862250bc139768d1d4ba961d306398099\n",
      "44147f2461380464a462bbeacaee7b5d1825670b43a68c585701c3412a634aa2\n"
     ]
    }
   ],
   "source": [
    "docker run --name SQL1 `\n",
    "    -e \"ACCEPT_EULA=Y\" `\n",
    "    -e \"MSSQL_SA_PASSWORD=Str0ngP@sSw0rd !\" `\n",
    "    -e MSSQL_PID=Developer `\n",
    "    -e \"MSSQL_AGENT_ENABLED=true\" `\n",
    "    -p 1433:1433 `\n",
    "    --mount type=bind,src=C:\\Temp\\docker\\SQL1,dst=/var/opt/mssql/data `\n",
    "    -d mcr.microsoft.com/mssql/server:2022-latest\n",
    "\n",
    "docker run --name SQL2 `\n",
    "    -e \"ACCEPT_EULA=Y\" `\n",
    "    -e \"MSSQL_SA_PASSWORD=Str0ngP@sSw0rd !\" `\n",
    "    -e MSSQL_PID=Developer `\n",
    "    -e \"MSSQL_AGENT_ENABLED=true\" `\n",
    "    -p 1434:1433 `\n",
    "    --mount type=bind,src=C:\\Temp\\docker\\SQL2,dst=/var/opt/mssql/data `\n",
    "    -d mcr.microsoft.com/mssql/server:2022-latest\n",
    "\n",
    "docker run --name SQL3 `\n",
    "    -e \"ACCEPT_EULA=Y\" `\n",
    "    -e \"MSSQL_SA_PASSWORD=Str0ngP@sSw0rd !\" `\n",
    "    -e MSSQL_PID=Developer `\n",
    "    -e \"MSSQL_AGENT_ENABLED=true\" `\n",
    "    -p 1435:1433 `\n",
    "    --mount type=bind,src=C:\\Temp\\docker\\SQL3,dst=/var/opt/mssql/data `\n",
    "    -d mcr.microsoft.com/mssql/server:2022-latest\n",
    "\n",
    "docker run --name SQL4 `\n",
    "    -e \"ACCEPT_EULA=Y\" `\n",
    "    -e \"MSSQL_SA_PASSWORD=Str0ngP@sSw0rd !\" `\n",
    "    -e MSSQL_PID=Developer `\n",
    "    -e \"MSSQL_AGENT_ENABLED=true\" `\n",
    "    -p 1436:1433 `\n",
    "    --mount type=bind,src=C:\\Temp\\docker\\SQL4,dst=/var/opt/mssql/data `\n",
    "    -d mcr.microsoft.com/mssql/server:2019-latest\n",
    "\n",
    "docker run --name SQL5 `\n",
    "    -e \"ACCEPT_EULA=Y\" `\n",
    "    -e \"MSSQL_SA_PASSWORD=Str0ngP@sSw0rd !\" `\n",
    "    -e MSSQL_PID=Developer `\n",
    "    -e \"MSSQL_AGENT_ENABLED=true\" `\n",
    "    -p 1437:1433 `\n",
    "    --mount type=bind,src=C:\\Temp\\docker\\SQL5,dst=/var/opt/mssql/data `\n",
    "    -d mcr.microsoft.com/mssql/server:2017-latest\n",
    "    \n"
   ]
  },
  {
   "cell_type": "code",
   "execution_count": 3,
   "metadata": {
    "dotnet_interactive": {
     "language": "pwsh"
    },
    "polyglot_notebook": {
     "kernelName": "pwsh"
    },
    "vscode": {
     "languageId": "polyglot-notebook"
    }
   },
   "outputs": [
    {
     "name": "stdout",
     "output_type": "stream",
     "text": [
      "\n",
      "\u001b[95mSQL Credential\u001b[0m\n",
      "Please enter the username and password for the SQL Auth account\n",
      "\n"
     ]
    }
   ],
   "source": [
    "<# Store credential and Targets#>\n",
    "#Passoword: \"Str0ngP@sSw0rd !\"\n",
    "$SQLInstance =  \"Seis-Work,1433\", \"Seis-Work,1434\", \"Seis-Work,1435\", \"Seis-Work,1436\", \"Seis-Work,1437\"\n",
    "$cred = $host.ui.PromptForCredential(\"SQL Credential\", \"Please enter the username and password for the SQL Auth account\", \"sa\", \"\")\n"
   ]
  },
  {
   "cell_type": "code",
   "execution_count": 6,
   "metadata": {
    "dotnet_interactive": {
     "language": "pwsh"
    },
    "polyglot_notebook": {
     "kernelName": "pwsh"
    },
    "vscode": {
     "languageId": "polyglot-notebook"
    }
   },
   "outputs": [
    {
     "name": "stdout",
     "output_type": "stream",
     "text": [
      "WARNING: [11:06:17][Invoke-DbaQuery] [Seis-Work,1433] Failed during execution | The server 'SQL1' does not exist. Use sp_helpserver to show available servers.\n",
      "WARNING: [11:06:18][Invoke-DbaQuery] [Seis-Work,1434] Failed during execution | The server 'SQL2' does not exist. Use sp_helpserver to show available servers.\n",
      "WARNING: [11:06:18][Invoke-DbaQuery] [Seis-Work,1435] Failed during execution | The server 'SQL3' does not exist. Use sp_helpserver to show available servers.\n",
      "WARNING: [11:06:18][Invoke-DbaQuery] [Seis-Work,1436] Failed during execution | The server 'SQL4' does not exist. Use sp_helpserver to show available servers.\n",
      "WARNING: [11:06:18][Invoke-DbaQuery] [Seis-Work,1437] Failed during execution | The server 'SQL5' does not exist. Use sp_helpserver to show available servers.\n"
     ]
    },
    {
     "ename": "Error",
     "evalue": "The server 'SQL5' does not exist. Use sp_helpserver to show available servers.\r\nException calling \"Fill\" with \"1\" argument(s): \"The server 'SQL5' does not exist. Use sp_helpserver to show available servers.\"\r\nThe server 'SQL4' does not exist. Use sp_helpserver to show available servers.\r\nException calling \"Fill\" with \"1\" argument(s): \"The server 'SQL4' does not exist. Use sp_helpserver to show available servers.\"\r\nThe server 'SQL3' does not exist. Use sp_helpserver to show available servers.\r\nException calling \"Fill\" with \"1\" argument(s): \"The server 'SQL3' does not exist. Use sp_helpserver to show available servers.\"\r\nThe server 'SQL2' does not exist. Use sp_helpserver to show available servers.\r\nException calling \"Fill\" with \"1\" argument(s): \"The server 'SQL2' does not exist. Use sp_helpserver to show available servers.\"\r\nThe server 'SQL1' does not exist. Use sp_helpserver to show available servers.\r\nException calling \"Fill\" with \"1\" argument(s): \"The server 'SQL1' does not exist. Use sp_helpserver to show available servers.\"",
     "output_type": "error",
     "traceback": [
      "The server 'SQL5' does not exist. Use sp_helpserver to show available servers.\r\n",
      "Exception calling \"Fill\" with \"1\" argument(s): \"The server 'SQL5' does not exist. Use sp_helpserver to show available servers.\"\r\n",
      "The server 'SQL4' does not exist. Use sp_helpserver to show available servers.\r\n",
      "Exception calling \"Fill\" with \"1\" argument(s): \"The server 'SQL4' does not exist. Use sp_helpserver to show available servers.\"\r\n",
      "The server 'SQL3' does not exist. Use sp_helpserver to show available servers.\r\n",
      "Exception calling \"Fill\" with \"1\" argument(s): \"The server 'SQL3' does not exist. Use sp_helpserver to show available servers.\"\r\n",
      "The server 'SQL2' does not exist. Use sp_helpserver to show available servers.\r\n",
      "Exception calling \"Fill\" with \"1\" argument(s): \"The server 'SQL2' does not exist. Use sp_helpserver to show available servers.\"\r\n",
      "The server 'SQL1' does not exist. Use sp_helpserver to show available servers.\r\n",
      "Exception calling \"Fill\" with \"1\" argument(s): \"The server 'SQL1' does not exist. Use sp_helpserver to show available servers.\""
     ]
    }
   ],
   "source": [
    "<# Internal Name Drop #>\n",
    "invoke-dbaquery -sqlinstance $sqlinstance -SqlCredential $cred -query  \"\n",
    "\n",
    "EXEC sp_dropserver @@Servername\n",
    "        \n",
    "\" | Format-Table "
   ]
  },
  {
   "cell_type": "code",
   "execution_count": 7,
   "metadata": {
    "dotnet_interactive": {
     "language": "pwsh"
    },
    "polyglot_notebook": {
     "kernelName": "pwsh"
    },
    "vscode": {
     "languageId": "polyglot-notebook"
    }
   },
   "outputs": [],
   "source": [
    "<# Internal Rename #>\n",
    "$count = 1\n",
    "foreach ($instance in $SQLInstance) {\n",
    "    invoke-dbaquery -sqlinstance $instance -SqlCredential $cred -query  \"\n",
    "        EXEC sp_addserver 'SQL$count', local     \n",
    "    \"\n",
    "    $Count ++ \n",
    "    } "
   ]
  },
  {
   "cell_type": "code",
   "execution_count": 9,
   "metadata": {
    "dotnet_interactive": {
     "language": "pwsh"
    },
    "polyglot_notebook": {
     "kernelName": "pwsh"
    },
    "vscode": {
     "languageId": "polyglot-notebook"
    }
   },
   "outputs": [
    {
     "name": "stdout",
     "output_type": "stream",
     "text": [
      "SQL1\n",
      "SQL2\n",
      "SQL3\n",
      "SQL4\n",
      "SQL5\n",
      "SQL1\n",
      "SQL2\n",
      "SQL3\n",
      "SQL4\n",
      "SQL5\n"
     ]
    }
   ],
   "source": [
    "<# Stop and restart for names to go into effect#>\n",
    "docker stop SQL1\n",
    "docker stop SQL2\n",
    "docker stop SQL3\n",
    "docker stop SQL4\n",
    "docker stop SQL5\n",
    "docker start SQL1\n",
    "docker start SQL2\n",
    "docker start SQL3\n",
    "docker start SQL4\n",
    "docker start SQL5"
   ]
  },
  {
   "cell_type": "code",
   "execution_count": 1,
   "metadata": {
    "dotnet_interactive": {
     "language": "pwsh"
    },
    "polyglot_notebook": {
     "kernelName": "pwsh"
    },
    "vscode": {
     "languageId": "polyglot-notebook"
    }
   },
   "outputs": [
    {
     "name": "stdout",
     "output_type": "stream",
     "text": [
      "SQL1\n",
      "SQL2\n",
      "SQL3\n",
      "SQL4\n",
      "SQL5\n",
      "SQL1\n",
      "SQL2\n",
      "SQL3\n",
      "SQL4\n",
      "SQL5\n"
     ]
    }
   ],
   "source": [
    "<# Stop and remove for cleanup #>\n",
    "docker stop SQL1\n",
    "docker stop SQL2\n",
    "docker stop SQL3\n",
    "docker stop SQL4\n",
    "docker stop SQL5\n",
    "docker rm SQL1\n",
    "docker rm SQL2\n",
    "docker rm SQL3\n",
    "docker rm SQL4\n",
    "docker rm SQL5\n"
   ]
  },
  {
   "cell_type": "code",
   "execution_count": null,
   "metadata": {
    "dotnet_interactive": {
     "language": "pwsh"
    },
    "polyglot_notebook": {
     "kernelName": "pwsh"
    },
    "vscode": {
     "languageId": "polyglot-notebook"
    }
   },
   "outputs": [
    {
     "name": "stdout",
     "output_type": "stream",
     "text": [
      "SQL1\n",
      "SQL2\n",
      "SQL3\n",
      "SQL4\n",
      "SQL5\n"
     ]
    }
   ],
   "source": [
    "<# Just stop  for storage #>\n",
    "docker stop SQL1\n",
    "docker stop SQL2\n",
    "docker stop SQL3\n",
    "docker stop SQL4\n",
    "docker stop SQL5"
   ]
  },
  {
   "cell_type": "code",
   "execution_count": null,
   "metadata": {
    "dotnet_interactive": {
     "language": "value"
    },
    "polyglot_notebook": {
     "kernelName": "value"
    },
    "vscode": {
     "languageId": "polyglot-notebook"
    }
   },
   "outputs": [],
   "source": [
    "<# Attach stack overflow #>\n",
    "\n",
    "<# SQL\n",
    "USE [master]\n",
    "GO\n",
    "CREATE DATABASE [StackOverflow2010] ON \n",
    "( FILENAME = N'/var/opt/mssql/data/StackOverflow2010.mdf' ),\n",
    "( FILENAME = N'/var/opt/mssql/data/StackOverflow2010_log.ldf' )\n",
    " FOR ATTACH\n",
    "GO\n",
    "#>"
   ]
  }
 ],
 "metadata": {
  "kernelspec": {
   "display_name": ".NET (PowerShell)",
   "language": "PowerShell",
   "name": ".net-pwsh"
  },
  "language_info": {
   "name": "powershell"
  },
  "polyglot_notebook": {
   "kernelInfo": {
    "defaultKernelName": "pwsh",
    "items": [
     {
      "aliases": [],
      "languageName": "pwsh",
      "name": "pwsh"
     }
    ]
   }
  }
 },
 "nbformat": 4,
 "nbformat_minor": 2
}
