{
 "cells": [
  {
   "cell_type": "markdown",
   "metadata": {},
   "source": [
    "Building the target Docker containers for demonstrations"
   ]
  },
  {
   "cell_type": "code",
   "execution_count": null,
   "metadata": {
    "dotnet_interactive": {
     "language": "pwsh"
    },
    "polyglot_notebook": {
     "kernelName": "pwsh"
    },
    "vscode": {
     "languageId": "polyglot-notebook"
    }
   },
   "outputs": [
    {
     "name": "stdout",
     "output_type": "stream",
     "text": [
      "b6208572fb0b4e4cab3f2f5dc5f80ed31d95775e682a381ce36aae7a5d3b6898\n",
      "84a1f258263fea3cf545bff35139d5baf26471dd5fbb29f2a0045bfcd5ac9ceb\n",
      "bea322f40fe960079ba3c50a57128ec84259c364c0cb74d82066d039fe206a52\n",
      "7958038d3206ea82eb6131b7a00b5a80c15cf58e7f990b854c1893be64713aa8\n",
      "17c4dd9f8cd382b48853633fdc45bcb4548097b0d5f29b9e4cdc210846637bc1\n"
     ]
    }
   ],
   "source": [
    "docker run --name SQL1 `\n",
    "    -e \"ACCEPT_EULA=Y\" `\n",
    "    -e \"MSSQL_SA_PASSWORD=Str0ngP@sSw0rd !\" `\n",
    "    -e MSSQL_PID=Developer `\n",
    "    -e \"MSSQL_AGENT_ENABLED=true\" `\n",
    "    -p 1433:1433 `\n",
    "    --mount type=bind,src=C:\\Temp\\docker\\SQL1,dst=/var/opt/mssql/data `\n",
    "    -d mcr.microsoft.com/mssql/server:2022-latest\n",
    "\n",
    "docker run --name SQL2 `\n",
    "    -e \"ACCEPT_EULA=Y\" `\n",
    "    -e \"MSSQL_SA_PASSWORD=Str0ngP@sSw0rd !\" `\n",
    "    -e MSSQL_PID=Developer `\n",
    "    -e \"MSSQL_AGENT_ENABLED=true\" `\n",
    "    -p 1434:1433 `\n",
    "    --mount type=bind,src=C:\\Temp\\docker\\SQL2,dst=/var/opt/mssql/data `\n",
    "    -d mcr.microsoft.com/mssql/server:2022-latest\n",
    "\n",
    "docker run --name SQL3 `\n",
    "    -e \"ACCEPT_EULA=Y\" `\n",
    "    -e \"MSSQL_SA_PASSWORD=Str0ngP@sSw0rd !\" `\n",
    "    -e MSSQL_PID=Developer `\n",
    "    -e \"MSSQL_AGENT_ENABLED=true\" `\n",
    "    -p 1435:1433 `\n",
    "    --mount type=bind,src=C:\\Temp\\docker\\SQL3,dst=/var/opt/mssql/data `\n",
    "    -d mcr.microsoft.com/mssql/server:2022-latest\n",
    "\n",
    "docker run --name SQL4 `\n",
    "    -e \"ACCEPT_EULA=Y\" `\n",
    "    -e \"MSSQL_SA_PASSWORD=Str0ngP@sSw0rd !\" `\n",
    "    -e MSSQL_PID=Developer `\n",
    "    -e \"MSSQL_AGENT_ENABLED=true\" `\n",
    "    -p 1436:1433 `\n",
    "    --mount type=bind,src=C:\\Temp\\docker\\SQL4,dst=/var/opt/mssql/data `\n",
    "    -d mcr.microsoft.com/mssql/server:2019-latest\n",
    "\n",
    "docker run --name SQL5 `\n",
    "    -e \"ACCEPT_EULA=Y\" `\n",
    "    -e \"MSSQL_SA_PASSWORD=Str0ngP@sSw0rd !\" `\n",
    "    -e MSSQL_PID=Developer `\n",
    "    -e \"MSSQL_AGENT_ENABLED=true\" `\n",
    "    -p 1437:1433 `\n",
    "    --mount type=bind,src=C:\\Temp\\docker\\SQL5,dst=/var/opt/mssql/data `\n",
    "    -d mcr.microsoft.com/mssql/server:2017-latest\n",
    "    \n"
   ]
  },
  {
   "cell_type": "code",
   "execution_count": 68,
   "metadata": {
    "dotnet_interactive": {
     "language": "pwsh"
    },
    "polyglot_notebook": {
     "kernelName": "pwsh"
    },
    "vscode": {
     "languageId": "polyglot-notebook"
    }
   },
   "outputs": [
    {
     "name": "stdout",
     "output_type": "stream",
     "text": [
      "\n",
      "\u001b[95mSQL Credential\u001b[0m\n",
      "Please enter the username and password for the SQL Auth account\n",
      "\n"
     ]
    }
   ],
   "source": [
    "<# Store credential and Targets#>\n",
    "#Passoword: \"Str0ngP@sSw0rd !\"\n",
    "$SQLInstance =  \"Seis-Work,1433\", \"Seis-Work,1434\", \"Seis-Work,1435\", \"Seis-Work,1436\", \"Seis-Work,1437\"\n",
    "$cred = $host.ui.PromptForCredential(\"SQL Credential\", \"Please enter the username and password for the SQL Auth account\", \"sa\", \"\")\n"
   ]
  },
  {
   "cell_type": "code",
   "execution_count": 100,
   "metadata": {
    "dotnet_interactive": {
     "language": "pwsh"
    },
    "polyglot_notebook": {
     "kernelName": "pwsh"
    },
    "vscode": {
     "languageId": "polyglot-notebook"
    }
   },
   "outputs": [
    {
     "name": "stdout",
     "output_type": "stream",
     "text": [
      "WARNING: [01:14:28][Invoke-DbaQuery] [Seis-Work,1433] Failed during execution | The server 'SQL1' does not exist. Use sp_helpserver to show available servers.\n",
      "WARNING: [01:14:28][Invoke-DbaQuery] [Seis-Work,1434] Failed during execution | The server 'SQL2' does not exist. Use sp_helpserver to show available servers.\n",
      "WARNING: [01:14:28][Invoke-DbaQuery] [Seis-Work,1435] Failed during execution | The server 'SQL3' does not exist. Use sp_helpserver to show available servers.\n",
      "WARNING: [01:14:28][Invoke-DbaQuery] [Seis-Work,1436] Failed during execution | The server 'SQL4' does not exist. Use sp_helpserver to show available servers.\n",
      "WARNING: [01:14:28][Invoke-DbaQuery] [Seis-Work,1437] Failed during execution | The server 'SQL5' does not exist. Use sp_helpserver to show available servers.\n"
     ]
    },
    {
     "ename": "Error",
     "evalue": "The server 'SQL5' does not exist. Use sp_helpserver to show available servers.\r\nException calling \"Fill\" with \"1\" argument(s): \"The server 'SQL5' does not exist. Use sp_helpserver to show available servers.\"\r\nThe server 'SQL4' does not exist. Use sp_helpserver to show available servers.\r\nException calling \"Fill\" with \"1\" argument(s): \"The server 'SQL4' does not exist. Use sp_helpserver to show available servers.\"\r\nThe server 'SQL3' does not exist. Use sp_helpserver to show available servers.\r\nException calling \"Fill\" with \"1\" argument(s): \"The server 'SQL3' does not exist. Use sp_helpserver to show available servers.\"\r\nThe server 'SQL2' does not exist. Use sp_helpserver to show available servers.\r\nException calling \"Fill\" with \"1\" argument(s): \"The server 'SQL2' does not exist. Use sp_helpserver to show available servers.\"\r\nThe server 'SQL1' does not exist. Use sp_helpserver to show available servers.\r\nException calling \"Fill\" with \"1\" argument(s): \"The server 'SQL1' does not exist. Use sp_helpserver to show available servers.\"",
     "output_type": "error",
     "traceback": [
      "The server 'SQL5' does not exist. Use sp_helpserver to show available servers.\r\n",
      "Exception calling \"Fill\" with \"1\" argument(s): \"The server 'SQL5' does not exist. Use sp_helpserver to show available servers.\"\r\n",
      "The server 'SQL4' does not exist. Use sp_helpserver to show available servers.\r\n",
      "Exception calling \"Fill\" with \"1\" argument(s): \"The server 'SQL4' does not exist. Use sp_helpserver to show available servers.\"\r\n",
      "The server 'SQL3' does not exist. Use sp_helpserver to show available servers.\r\n",
      "Exception calling \"Fill\" with \"1\" argument(s): \"The server 'SQL3' does not exist. Use sp_helpserver to show available servers.\"\r\n",
      "The server 'SQL2' does not exist. Use sp_helpserver to show available servers.\r\n",
      "Exception calling \"Fill\" with \"1\" argument(s): \"The server 'SQL2' does not exist. Use sp_helpserver to show available servers.\"\r\n",
      "The server 'SQL1' does not exist. Use sp_helpserver to show available servers.\r\n",
      "Exception calling \"Fill\" with \"1\" argument(s): \"The server 'SQL1' does not exist. Use sp_helpserver to show available servers.\""
     ]
    }
   ],
   "source": [
    "<# Internal Name Drop #>\n",
    "invoke-dbaquery -sqlinstance $sqlinstance -SqlCredential $cred -query  \"\n",
    "\n",
    "EXEC sp_dropserver @@Servername\n",
    "        \n",
    "\" | Format-Table "
   ]
  },
  {
   "cell_type": "code",
   "execution_count": 101,
   "metadata": {
    "dotnet_interactive": {
     "language": "pwsh"
    },
    "polyglot_notebook": {
     "kernelName": "pwsh"
    },
    "vscode": {
     "languageId": "polyglot-notebook"
    }
   },
   "outputs": [],
   "source": [
    "<# Internal Rename #>\n",
    "$count = 1\n",
    "foreach ($instance in $SQLInstance) {\n",
    "    invoke-dbaquery -sqlinstance $instance -SqlCredential $cred -query  \"\n",
    "        EXEC sp_addserver 'SQL$count', local     \n",
    "    \"\n",
    "    $Count ++ \n",
    "    } "
   ]
  },
  {
   "cell_type": "code",
   "execution_count": 102,
   "metadata": {
    "dotnet_interactive": {
     "language": "pwsh"
    },
    "polyglot_notebook": {
     "kernelName": "pwsh"
    },
    "vscode": {
     "languageId": "polyglot-notebook"
    }
   },
   "outputs": [
    {
     "name": "stdout",
     "output_type": "stream",
     "text": [
      "SQL1\n",
      "SQL2\n",
      "SQL3\n",
      "SQL4\n",
      "SQL5\n",
      "SQL1\n",
      "SQL2\n",
      "SQL3\n",
      "SQL4\n",
      "SQL5\n"
     ]
    }
   ],
   "source": [
    "<# Stop and restart for names to go into effect#>\n",
    "docker stop SQL1\n",
    "docker stop SQL2\n",
    "docker stop SQL3\n",
    "docker stop SQL4\n",
    "docker stop SQL5\n",
    "docker start SQL1\n",
    "docker start SQL2\n",
    "docker start SQL3\n",
    "docker start SQL4\n",
    "docker start SQL5"
   ]
  },
  {
   "cell_type": "code",
   "execution_count": 92,
   "metadata": {
    "dotnet_interactive": {
     "language": "pwsh"
    },
    "polyglot_notebook": {
     "kernelName": "pwsh"
    },
    "vscode": {
     "languageId": "polyglot-notebook"
    }
   },
   "outputs": [
    {
     "name": "stdout",
     "output_type": "stream",
     "text": [
      "SQL1\n",
      "SQL2\n",
      "SQL3\n",
      "SQL4\n",
      "SQL5\n",
      "SQL1\n",
      "SQL2\n",
      "SQL3\n",
      "SQL4\n",
      "SQL5\n"
     ]
    }
   ],
   "source": [
    "<# Stop and remove for cleanup #>\n",
    "docker stop SQL1\n",
    "docker stop SQL2\n",
    "docker stop SQL3\n",
    "docker stop SQL4\n",
    "docker stop SQL5\n",
    "docker rm SQL1\n",
    "docker rm SQL2\n",
    "docker rm SQL3\n",
    "docker rm SQL4\n",
    "docker rm SQL5\n"
   ]
  },
  {
   "cell_type": "code",
   "execution_count": null,
   "metadata": {
    "dotnet_interactive": {
     "language": "pwsh"
    },
    "polyglot_notebook": {
     "kernelName": "pwsh"
    },
    "vscode": {
     "languageId": "polyglot-notebook"
    }
   },
   "outputs": [
    {
     "name": "stdout",
     "output_type": "stream",
     "text": [
      "SQL1\n",
      "SQL2\n",
      "SQL3\n",
      "SQL4\n",
      "SQL5\n"
     ]
    }
   ],
   "source": [
    "<# Just stop  for storage #>\n",
    "docker stop SQL1\n",
    "docker stop SQL2\n",
    "docker stop SQL3\n",
    "docker stop SQL4\n",
    "docker stop SQL5"
   ]
  },
  {
   "cell_type": "code",
   "execution_count": null,
   "metadata": {
    "vscode": {
     "languageId": "polyglot-notebook"
    }
   },
   "outputs": [],
   "source": [
    "<# Attach stack overflow #>\n",
    "\n",
    "<# SQL\n",
    "USE [master]\n",
    "GO\n",
    "CREATE DATABASE [StackOverflow2010] ON \n",
    "( FILENAME = N'/var/opt/mssql/data/StackOverflow2010.mdf' ),\n",
    "( FILENAME = N'/var/opt/mssql/data/StackOverflow2010_log.ldf' )\n",
    " FOR ATTACH\n",
    "GO\n",
    "#>"
   ]
  }
 ],
 "metadata": {
  "kernelspec": {
   "display_name": ".NET (PowerShell)",
   "language": "PowerShell",
   "name": ".net-pwsh"
  },
  "language_info": {
   "name": "powershell"
  },
  "polyglot_notebook": {
   "kernelInfo": {
    "defaultKernelName": "pwsh",
    "items": [
     {
      "aliases": [],
      "languageName": "pwsh",
      "name": "pwsh"
     }
    ]
   }
  }
 },
 "nbformat": 4,
 "nbformat_minor": 2
}
