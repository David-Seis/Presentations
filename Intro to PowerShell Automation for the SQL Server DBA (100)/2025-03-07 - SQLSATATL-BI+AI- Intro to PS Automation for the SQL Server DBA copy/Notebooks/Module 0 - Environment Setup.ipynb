{
 "cells": [
  {
   "cell_type": "markdown",
   "metadata": {},
   "source": []
  },
  {
   "cell_type": "code",
   "execution_count": 10,
   "metadata": {
    "dotnet_interactive": {
     "language": "pwsh"
    },
    "polyglot_notebook": {
     "kernelName": "pwsh"
    },
    "vscode": {
     "languageId": "polyglot-notebook"
    }
   },
   "outputs": [
    {
     "name": "stdout",
     "output_type": "stream",
     "text": [
      "30c5b065da5da5f791ec0aa46a68a400778ccedf25b3bd940f066e9b8f5f25f3\n",
      "f9d6f2bb8c08c5a0b0111fa9beb5187e4c930d72bcd690dd70b1da2334783549\n",
      "f5a63849d15d75d6ffd0f0c222e5f133ddddc9a288253454c8dc848765cc0eab\n"
     ]
    }
   ],
   "source": [
    "docker run --name SQL1 `\n",
    "    -e \"ACCEPT_EULA=Y\" `\n",
    "    -e \"MSSQL_SA_PASSWORD=Str0ngP@sSw0rd !\" `\n",
    "    -e MSSQL_PID=Enterprise `\n",
    "    -e \"MSSQL_AGENT_ENABLED=true\" `\n",
    "    -p 1433:1433 `\n",
    "    -d mcr.microsoft.com/mssql/server:2022-latest\n",
    "\n",
    "docker run --name SQL2 `\n",
    "    -e \"ACCEPT_EULA=Y\" `\n",
    "    -e \"MSSQL_SA_PASSWORD=Str0ngP@sSw0rd !\" `\n",
    "    -e MSSQL_PID=Enterprise `\n",
    "    -e \"MSSQL_AGENT_ENABLED=true\" `\n",
    "    -p 1434:1433 `\n",
    "    -d mcr.microsoft.com/mssql/server:2022-latest\n",
    "\n",
    "docker run --name SQL3 `\n",
    "    -e \"ACCEPT_EULA=Y\" `\n",
    "    -e \"MSSQL_SA_PASSWORD=Str0ngP@sSw0rd !\" `\n",
    "    -e MSSQL_PID=Enterprise `\n",
    "    -e \"MSSQL_AGENT_ENABLED=true\" `\n",
    "    -p 1435:1433 `\n",
    "    -d mcr.microsoft.com/mssql/server:2022-latest\n"
   ]
  },
  {
   "cell_type": "code",
   "execution_count": null,
   "metadata": {
    "dotnet_interactive": {
     "language": "pwsh"
    },
    "polyglot_notebook": {
     "kernelName": "pwsh"
    },
    "vscode": {
     "languageId": "polyglot-notebook"
    }
   },
   "outputs": [],
   "source": [
    "docker run -e \"ACCEPT_EULA=Y\" -e \"MSSQL_SA_PASSWORD=Str0ngP@sSw0rd !\" -p 1433:1433 -d mcr.microsoft.com/mssql/server:2019-latest\n",
    "docker run -e \"ACCEPT_EULA=Y\" -e \"MSSQL_SA_PASSWORD=Str0ngP@sSw0rd !\" -p 1433:1433 -d mcr.microsoft.com/mssql/server:2017-latest\n"
   ]
  },
  {
   "cell_type": "code",
   "execution_count": 8,
   "metadata": {
    "dotnet_interactive": {
     "language": "pwsh"
    },
    "polyglot_notebook": {
     "kernelName": "pwsh"
    },
    "vscode": {
     "languageId": "polyglot-notebook"
    }
   },
   "outputs": [
    {
     "name": "stdout",
     "output_type": "stream",
     "text": [
      "SQL1\n",
      "SQL2\n",
      "SQL3\n"
     ]
    }
   ],
   "source": [
    "docker stop SQL1\n",
    "docker stop SQL2\n",
    "docker stop SQL3"
   ]
  },
  {
   "cell_type": "code",
   "execution_count": null,
   "metadata": {
    "dotnet_interactive": {
     "language": "pwsh"
    },
    "polyglot_notebook": {
     "kernelName": "pwsh"
    },
    "vscode": {
     "languageId": "polyglot-notebook"
    }
   },
   "outputs": [],
   "source": [
    "docker start SQL1\n",
    "docker start SQL2\n",
    "docker start SQL3"
   ]
  },
  {
   "cell_type": "code",
   "execution_count": 9,
   "metadata": {
    "dotnet_interactive": {
     "language": "pwsh"
    },
    "polyglot_notebook": {
     "kernelName": "pwsh"
    },
    "vscode": {
     "languageId": "polyglot-notebook"
    }
   },
   "outputs": [
    {
     "name": "stdout",
     "output_type": "stream",
     "text": [
      "SQL1\n",
      "SQL2\n",
      "SQL3\n"
     ]
    }
   ],
   "source": [
    "docker rm SQL1\n",
    "docker rm SQL2\n",
    "docker rm SQL3"
   ]
  }
 ],
 "metadata": {
  "kernelspec": {
   "display_name": ".NET (PowerShell)",
   "language": "PowerShell",
   "name": ".net-pwsh"
  },
  "language_info": {
   "name": "powershell"
  },
  "polyglot_notebook": {
   "kernelInfo": {
    "defaultKernelName": "pwsh",
    "items": [
     {
      "aliases": [],
      "languageName": "pwsh",
      "name": "pwsh"
     }
    ]
   }
  }
 },
 "nbformat": 4,
 "nbformat_minor": 2
}
