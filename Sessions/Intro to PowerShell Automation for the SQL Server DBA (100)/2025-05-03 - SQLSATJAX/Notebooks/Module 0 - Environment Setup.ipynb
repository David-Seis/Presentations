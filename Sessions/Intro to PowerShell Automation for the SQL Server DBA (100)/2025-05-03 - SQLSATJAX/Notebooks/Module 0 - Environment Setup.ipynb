{
 "cells": [
  {
   "cell_type": "markdown",
   "metadata": {},
   "source": [
    "## Building the target Docker containers for demonstrations"
   ]
  },
  {
   "cell_type": "markdown",
   "metadata": {},
   "source": [
    "### Create 5 sql containers\n",
    "These are all various versions, uniquely named, and use a local bind mount for easy data ingress and egress from my demo host. I use the bind mount for simplification of demos as well."
   ]
  },
  {
   "cell_type": "code",
   "execution_count": 1,
   "metadata": {
    "dotnet_interactive": {
     "language": "pwsh"
    },
    "polyglot_notebook": {
     "kernelName": "pwsh"
    },
    "vscode": {
     "languageId": "polyglot-notebook"
    }
   },
   "outputs": [
    {
     "name": "stdout",
     "output_type": "stream",
     "text": [
      "2d1bd4d24f6948cda764bcfe9d19b293a3156b5adece3b8e562f658615e50dc2\n",
      "26b90746efe7074541d36caa19b019473cc26078d12c0cef13541ff345f14b7e\n",
      "5d8357f851999bb0a947b560e6ad548d182386dbbeaa3ce47e0184b7e7bad34a\n",
      "c2f4dbe4e37a2c53b1694a6eed5c773bee2781a7df3d83cca65599207b0a5822\n",
      "8061f3ee59728b94c12adcd16a781f49736424a3b42ec8af966484f7a3fe5fea\n"
     ]
    }
   ],
   "source": [
    "<# Create 5 SQL Containers #>\n",
    "docker run --name SQL1 `\n",
    "    -e \"ACCEPT_EULA=Y\" `\n",
    "    -e \"MSSQL_SA_PASSWORD=Str0ngP@sSw0rd !\" `\n",
    "    -e MSSQL_PID=Developer `\n",
    "    -e \"MSSQL_AGENT_ENABLED=true\" `\n",
    "    -p 1433:1433 `\n",
    "    --mount type=bind,src=C:\\Temp\\docker\\SQL1,dst=/var/opt/mssql/data `\n",
    "    -d mcr.microsoft.com/mssql/server:2022-latest\n",
    "\n",
    "docker run --name SQL2 `\n",
    "    -e \"ACCEPT_EULA=Y\" `\n",
    "    -e \"MSSQL_SA_PASSWORD=Str0ngP@sSw0rd !\" `\n",
    "    -e MSSQL_PID=Developer `\n",
    "    -e \"MSSQL_AGENT_ENABLED=true\" `\n",
    "    -p 1434:1433 `\n",
    "    --mount type=bind,src=C:\\Temp\\docker\\SQL2,dst=/var/opt/mssql/data `\n",
    "    -d mcr.microsoft.com/mssql/server:2022-latest\n",
    "\n",
    "docker run --name SQL3 `\n",
    "    -e \"ACCEPT_EULA=Y\" `\n",
    "    -e \"MSSQL_SA_PASSWORD=Str0ngP@sSw0rd !\" `\n",
    "    -e MSSQL_PID=Developer `\n",
    "    -e \"MSSQL_AGENT_ENABLED=true\" `\n",
    "    -p 1435:1433 `\n",
    "    --mount type=bind,src=C:\\Temp\\docker\\SQL3,dst=/var/opt/mssql/data `\n",
    "    -d mcr.microsoft.com/mssql/server:2022-latest\n",
    "\n",
    "docker run --name SQL4 `\n",
    "    -e \"ACCEPT_EULA=Y\" `\n",
    "    -e \"MSSQL_SA_PASSWORD=Str0ngP@sSw0rd !\" `\n",
    "    -e MSSQL_PID=Developer `\n",
    "    -e \"MSSQL_AGENT_ENABLED=true\" `\n",
    "    -p 1436:1433 `\n",
    "    --mount type=bind,src=C:\\Temp\\docker\\SQL4,dst=/var/opt/mssql/data `\n",
    "    -d mcr.microsoft.com/mssql/server:2019-latest\n",
    "\n",
    "docker run --name SQL5 `\n",
    "    -e \"ACCEPT_EULA=Y\" `\n",
    "    -e \"MSSQL_SA_PASSWORD=Str0ngP@sSw0rd !\" `\n",
    "    -e MSSQL_PID=Developer `\n",
    "    -e \"MSSQL_AGENT_ENABLED=true\" `\n",
    "    -p 1437:1433 `\n",
    "    --mount type=bind,src=C:\\Temp\\docker\\SQL5,dst=/var/opt/mssql/data `\n",
    "    -d mcr.microsoft.com/mssql/server:2017-latest\n",
    "    \n"
   ]
  },
  {
   "cell_type": "markdown",
   "metadata": {},
   "source": [
    "### Container Cleaning\n",
    "Rename the sql server instance inside the container and restart it for better demo visibility"
   ]
  },
  {
   "cell_type": "code",
   "execution_count": 2,
   "metadata": {
    "dotnet_interactive": {
     "language": "pwsh"
    },
    "polyglot_notebook": {
     "kernelName": "pwsh"
    },
    "vscode": {
     "languageId": "polyglot-notebook"
    }
   },
   "outputs": [
    {
     "name": "stdout",
     "output_type": "stream",
     "text": [
      "\n",
      "\u001b[95mSQL Credential\u001b[0m\n",
      "Please enter the username and password for the SQL Auth account\n",
      "\n"
     ]
    }
   ],
   "source": [
    "<# Prep Environment Variables for container corrections#>\n",
    "#Passoword: \"Str0ngP@sSw0rd !\"\n",
    "$SQLInstance =  \"Seis-Work,1433\", \"Seis-Work,1434\", \"Seis-Work,1435\", \"Seis-Work,1436\", \"Seis-Work,1437\"\n",
    "$cred = $host.ui.PromptForCredential(\"SQL Credential\", \"Please enter the username and password for the SQL Auth account\", \"sa\", \"\")\n"
   ]
  },
  {
   "cell_type": "code",
   "execution_count": 3,
   "metadata": {
    "dotnet_interactive": {
     "language": "pwsh"
    },
    "polyglot_notebook": {
     "kernelName": "pwsh"
    },
    "vscode": {
     "languageId": "polyglot-notebook"
    }
   },
   "outputs": [
    {
     "name": "stdout",
     "output_type": "stream",
     "text": [
      "SQL1\n",
      "SQL2\n",
      "SQL3\n",
      "SQL4\n",
      "SQL5\n",
      "SQL1\n",
      "SQL2\n",
      "SQL3\n",
      "SQL4\n",
      "SQL5\n"
     ]
    }
   ],
   "source": [
    "<# Rename SQL inside the Container #>\n",
    "invoke-dbaquery -sqlinstance $sqlinstance -SqlCredential $cred -query  \"\n",
    "    EXEC sp_dropserver @@Servername      \n",
    "\" | Format-Table \n",
    "\n",
    "$count = 1\n",
    "foreach ($instance in $SQLInstance) {\n",
    "    invoke-dbaquery -sqlinstance $instance -SqlCredential $cred -query  \"\n",
    "        EXEC sp_addserver 'SQL$count', local     \n",
    "    \"\n",
    "    $Count ++ \n",
    "    } \n",
    "\n",
    "docker stop SQL1\n",
    "docker stop SQL2\n",
    "docker stop SQL3\n",
    "docker stop SQL4\n",
    "docker stop SQL5\n",
    "docker start SQL1\n",
    "docker start SQL2\n",
    "docker start SQL3\n",
    "docker start SQL4\n",
    "docker start SQL5"
   ]
  },
  {
   "cell_type": "code",
   "execution_count": 4,
   "metadata": {
    "dotnet_interactive": {
     "language": "pwsh"
    },
    "polyglot_notebook": {
     "kernelName": "pwsh"
    },
    "vscode": {
     "languageId": "polyglot-notebook"
    }
   },
   "outputs": [
    {
     "name": "stdout",
     "output_type": "stream",
     "text": [
      "\u001b[31;1mError response from daemon: No such container: SQL1\u001b[0m\n",
      "\u001b[31;1mError response from daemon: No such container: SQL2\u001b[0m\n",
      "\u001b[31;1mError response from daemon: No such container: SQL3\u001b[0m\n",
      "\u001b[31;1mError response from daemon: No such container: SQL4\u001b[0m\n",
      "\u001b[31;1mError response from daemon: No such container: SQL5\u001b[0m\n",
      "\u001b[31;1mError response from daemon: No such container: SQL1\u001b[0m\n",
      "\u001b[31;1mError response from daemon: No such container: SQL2\u001b[0m\n",
      "\u001b[31;1mError response from daemon: No such container: SQL3\u001b[0m\n",
      "\u001b[31;1mError response from daemon: No such container: SQL4\u001b[0m\n",
      "\u001b[31;1mError response from daemon: No such container: SQL5\u001b[0m\n"
     ]
    }
   ],
   "source": [
    "<# Stop and remove Containers for cleanup #>\n",
    "docker stop SQL1\n",
    "docker stop SQL2\n",
    "docker stop SQL3\n",
    "docker stop SQL4\n",
    "docker stop SQL5\n",
    "docker rm SQL1\n",
    "docker rm SQL2\n",
    "docker rm SQL3\n",
    "docker rm SQL4\n",
    "docker rm SQL5\n"
   ]
  },
  {
   "cell_type": "code",
   "execution_count": null,
   "metadata": {
    "dotnet_interactive": {
     "language": "pwsh"
    },
    "polyglot_notebook": {
     "kernelName": "pwsh"
    },
    "vscode": {
     "languageId": "polyglot-notebook"
    }
   },
   "outputs": [
    {
     "name": "stdout",
     "output_type": "stream",
     "text": [
      "SQL1\n",
      "SQL2\n",
      "SQL3\n",
      "SQL4\n",
      "SQL5\n"
     ]
    }
   ],
   "source": [
    "<# Only stop containers for storage #>\n",
    "docker stop SQL1\n",
    "docker stop SQL2\n",
    "docker stop SQL3\n",
    "docker stop SQL4\n",
    "docker stop SQL5"
   ]
  },
  {
   "cell_type": "code",
   "execution_count": null,
   "metadata": {
    "dotnet_interactive": {
     "language": "value"
    },
    "polyglot_notebook": {
     "kernelName": "value"
    },
    "vscode": {
     "languageId": "polyglot-notebook"
    }
   },
   "outputs": [],
   "source": [
    "<# Attach stack overflow #>\n",
    "\n",
    "<# SQL\n",
    "USE [master]\n",
    "GO\n",
    "CREATE DATABASE [StackOverflow2010] ON \n",
    "( FILENAME = N'/var/opt/mssql/data/StackOverflow2010.mdf' ),\n",
    "( FILENAME = N'/var/opt/mssql/data/StackOverflow2010_log.ldf' )\n",
    " FOR ATTACH\n",
    "GO\n",
    "#>"
   ]
  }
 ],
 "metadata": {
  "kernelspec": {
   "display_name": ".NET (PowerShell)",
   "language": "PowerShell",
   "name": ".net-pwsh"
  },
  "language_info": {
   "name": "powershell"
  },
  "polyglot_notebook": {
   "kernelInfo": {
    "defaultKernelName": "pwsh",
    "items": [
     {
      "aliases": [],
      "languageName": "pwsh",
      "name": "pwsh"
     }
    ]
   }
  }
 },
 "nbformat": 4,
 "nbformat_minor": 2
}
