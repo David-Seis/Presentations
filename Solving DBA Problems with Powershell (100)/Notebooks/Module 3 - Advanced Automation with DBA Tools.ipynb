{
    "metadata": {
        "kernelspec": {
            "name": "python3",
            "display_name": "Python 3",
            "language": "python"
        },
        "language_info": {
            "name": "python",
            "version": "3.8.10",
            "mimetype": "text/x-python",
            "codemirror_mode": {
                "name": "ipython",
                "version": 3
            },
            "pygments_lexer": "ipython3",
            "nbconvert_exporter": "python",
            "file_extension": ".py"
        }
    },
    "nbformat_minor": 2,
    "nbformat": 4,
    "cells": [
        {
            "cell_type": "markdown",
            "source": [
                "![](https://straightpathsql.com/wp-content/uploads/2016/09/straight-path-solutions-logo-header.png)\n",
                "\n",
                "# Workshop: PowerShell Automation for the DBA\n",
                "\n",
                "#### _A Straight Path Consulting Course from David Seis_\n",
                "\n",
                "![](https://raw.githubusercontent.com/microsoft/sqlworkshops/master/graphics/textbubble.png)\n",
                "\n",
                "## Course Notebook: Module 3 - Advanced Automation with DBA Tools\n",
                "\n",
                "Welcome to this workshop on \\[_PowerShell Automation for the DBA_\\]. In this Notebook, you'll apply the concepts you learned in this Module.\n",
                "\n",
                "This Notebook contains recipes for some common applications of PowerShell.\n",
                "\n",
                "You'll need a working knowledge of XXX to benefit from it."
            ],
            "metadata": {
                "azdata_cell_guid": "247207f8-b0e9-466d-8385-16e561b12fc5"
            },
            "attachments": {}
        },
        {
            "cell_type": "code",
            "source": [
                "<# Comment #>\n",
                "\n",
                "## Setup Code goes here"
            ],
            "metadata": {
                "azdata_cell_guid": "d7809bf0-0c3f-4d0c-b713-24b4b9af3613",
                "collapsed": false,
                "language": "python",
                "tags": [],
                "trusted": true
            },
            "outputs": [],
            "execution_count": null
        },
        {
            "cell_type": "markdown",
            "source": [
                "## Title\n",
                "\n",
                "Brief Description"
            ],
            "metadata": {
                "azdata_cell_guid": "50099859-2d31-4e90-8c3a-491c45da7b7f"
            }
        },
        {
            "cell_type": "code",
            "source": [
                "<# Demonstrating the PowerShell Object calls #>\n",
                "\n",
                "# Comment \n",
                "Write-Host \"Code goes here\""
            ],
            "metadata": {
                "azdata_cell_guid": "18219f8c-bd73-4ecb-873a-28367af25c49",
                "language": "python"
            },
            "outputs": [
                {
                    "output_type": "stream",
                    "name": "stdout",
                    "text": "Diagnosis: You may have the flu.\n"
                }
            ],
            "execution_count": 3
        }
    ]
}