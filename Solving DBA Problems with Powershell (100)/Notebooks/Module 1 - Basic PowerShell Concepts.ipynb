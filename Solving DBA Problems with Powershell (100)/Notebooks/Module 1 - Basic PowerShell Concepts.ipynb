{
    "metadata": {
        "kernelspec": {
            "name": "powershell",
            "display_name": "PowerShell",
            "language": "powershell"
        },
        "language_info": {
            "name": "powershell",
            "codemirror_mode": "shell",
            "mimetype": "text/x-sh",
            "file_extension": ".ps1"
        }
    },
    "nbformat_minor": 2,
    "nbformat": 4,
    "cells": [
        {
            "cell_type": "markdown",
            "source": [
                "![](https://straightpathsql.com/wp-content/uploads/2016/09/straight-path-solutions-logo-header.png)\n",
                "\n",
                "# Workshop: PowerShell Automation for the DBA\n",
                "\n",
                "#### _A Straight Path Consulting Course from David Seis_\n",
                "\n",
                "![](https://raw.githubusercontent.com/microsoft/sqlworkshops/master/graphics/textbubble.png)\n",
                "\n",
                "## Course Notebook: Module 1 - Basic PowerShell Concepts\n",
                "\n",
                "Welcome to this workshop on _PowerShell Automation for the DBA_. In this Notebook, you'll apply the concepts you learned in this Module.\n",
                "\n",
                "This Notebook contains recipes for some common applications of PowerShell.\n",
                "\n",
                "You'll need a working knowledge of XXX to benefit from it."
            ],
            "metadata": {
                "azdata_cell_guid": "247207f8-b0e9-466d-8385-16e561b12fc5"
            },
            "attachments": {}
        },
        {
            "cell_type": "code",
            "source": [
                "<# Comment #>\n",
                "\n",
                "## Setup Code goes here\n",
                "Write-Host \"Setup Code Goes here\""
            ],
            "metadata": {
                "azdata_cell_guid": "d7809bf0-0c3f-4d0c-b713-24b4b9af3613",
                "collapsed": false,
                "language": "powershell",
                "tags": [],
                "trusted": true
            },
            "outputs": [
                {
                    "name": "stdout",
                    "text": "Setup Code Goes here\n",
                    "output_type": "stream"
                }
            ],
            "execution_count": 2
        },
        {
            "cell_type": "markdown",
            "source": [
                "## PowerShell Concept: CmdLets\n",
                "\n",
                "PowerShell cmdlets are small commands designed to perform a specific operation:\n",
                "\n",
                "- [**Cmdlets**: These are native PowerShell commands, not stand-alone executables](https://www.techopedia.com/30-powershell-commands-you-must-know-cheat-sheet-included)[2](https://learn.microsoft.com/en-us/powershell/scripting/powershell-commands?view=powershell-7.4). [They are collected into PowerShell modules that can be loaded on demand](https://www.techopedia.com/30-powershell-commands-you-must-know-cheat-sheet-included)[2](https://learn.microsoft.com/en-us/powershell/scripting/powershell-commands?view=powershell-7.4). [Cmdlets can be written in any compiled .NET language or in the PowerShell scripting language itself](https://www.techopedia.com/30-powershell-commands-you-must-know-cheat-sheet-included)[2](https://learn.microsoft.com/en-us/powershell/scripting/powershell-commands?view=powershell-7.4).\n",
                "    \n",
                "- [**Action**: Cmdlets perform an action and typically return a Microsoft .NET object to the next command in the pipeline](https://www.techopedia.com/30-powershell-commands-you-must-know-cheat-sheet-included)[3](https://learn.microsoft.com/en-us/powershell/scripting/developer/cmdlet/cmdlet-overview?view=powershell-7.4). [This includes binary (C#) cmdlets, advanced script functions, CDXML, and Workflows](https://www.techopedia.com/30-powershell-commands-you-must-know-cheat-sheet-included)[3](https://learn.microsoft.com/en-us/powershell/scripting/developer/cmdlet/cmdlet-overview?view=powershell-7.4).\n",
                "    \n",
                "- [**Parameters**: Cmdlets can have required, named, positional, and switch parameters](https://www.techopedia.com/30-powershell-commands-you-must-know-cheat-sheet-included)[3](https://learn.microsoft.com/en-us/powershell/scripting/developer/cmdlet/cmdlet-overview?view=powershell-7.4). [Switch parameters allow you to define parameters that are evaluated only if the parameters are specified in the call](https://www.techopedia.com/30-powershell-commands-you-must-know-cheat-sheet-included)[3](https://learn.microsoft.com/en-us/powershell/scripting/developer/cmdlet/cmdlet-overview?view=powershell-7.4).\n",
                "    \n",
                "- [**Parameter Sets**: A cmdlet can have multiple parameter sets, but each parameter set must have at least one parameter that is unique](https://www.techopedia.com/30-powershell-commands-you-must-know-cheat-sheet-included)[3](https://learn.microsoft.com/en-us/powershell/scripting/developer/cmdlet/cmdlet-overview?view=powershell-7.4).\n",
                "    \n",
                "- [**Dynamic Parameters**: These are parameters that are added to the cmdlet at runtime](https://learn.microsoft.com/en-us/powershell/scripting/developer/cmdlet/cmdlet-overview?view=powershell-7.4)[3](https://learn.microsoft.com/en-us/powershell/scripting/developer/cmdlet/cmdlet-overview?view=powershell-7.4).\n",
                "    \n",
                "\n",
                "[For example, the `Get-Content` cmdlet reads content from a file, while `Set-Content` writes content to a file](https://www.techopedia.com/30-powershell-commands-you-must-know-cheat-sheet-included)[1](https://www.techopedia.com/30-powershell-commands-you-must-know-cheat-sheet-included). [Cmdlets can be combined, and their output can be manipulated to handle complex tasks](https://www.techopedia.com/30-powershell-commands-you-must-know-cheat-sheet-included)[1](https://www.techopedia.com/30-powershell-commands-you-must-know-cheat-sheet-included). [They form the foundation of PowerShell’s functionality](https://www.techopedia.com/30-powershell-commands-you-must-know-cheat-sheet-included)[1](https://www.techopedia.com/30-powershell-commands-you-must-know-cheat-sheet-included)."
            ],
            "metadata": {
                "azdata_cell_guid": "49fd0a9d-e222-4289-b968-a9323741f701"
            },
            "attachments": {}
        },
        {
            "cell_type": "code",
            "source": [
                "<# #>#>"
            ],
            "metadata": {
                "azdata_cell_guid": "83418ff8-7dbc-484a-b0cb-4a224da12dd1",
                "language": "powershell"
            },
            "outputs": [],
            "execution_count": null
        },
        {
            "cell_type": "markdown",
            "source": [
                "## PowerShell Concepts: Objects\n",
                "\n",
                "In PowerShell, every action you take occurs within the context of objects. As data moves from one command to the next, it moves as one or more identifiable objects¹. Here's a brief description of how all items in PowerShell are objects:\n",
                "\n",
                "- **Object**: An object is a collection of data that represents an item¹. It is made up of three types of data: the object's type, its methods, and its properties¹.\n",
                "\n",
                "- **Type**: The object type tells what kind of object it is. For example, an object that represents a file is a FileInfo object¹.\n",
                "\n",
                "- **Methods**: The object methods are actions that you can perform on the object. For example, FileInfo objects have a CopyTo method that you can use to copy the file¹.\n",
                "\n",
                "- **Properties**: Object properties store information about the object. For example, FileInfo objects have a LastWriteTime property that stores the date and time that the file was most recently accessed¹.\n",
                "\n",
                "When commands are combined in a pipeline, they pass information to each other as objects¹. This object-oriented nature of PowerShell makes it powerful and flexible, allowing for efficient data manipulation and management².\n",
                "\n",
                "More information:\n",
                "- [About Objects - PowerShell | Microsoft Learn](https://learn.microsoft.com/en-us/powershell/module/microsoft.powershell.core/about/about_objects?view=powershell-7.4)\n",
                "- [Back to Basics: Understanding PowerShell Objects - ATA Learning](https://adamtheautomator.com/powershell-objects)\n",
                "- [Understanding PowerShell Objects - Petri IT Knowledgebase](https://petri.com/powershell-objects)\n",
                "- [PowerShell | Objects | Codecadem](https://www.codecademy.com/resources/docs/powershell/objects)"
            ],
            "metadata": {
                "azdata_cell_guid": "50099859-2d31-4e90-8c3a-491c45da7b7f"
            }
        },
        {
            "cell_type": "code",
            "source": [
                "<# Demonstrating the PowerShell Object calls #>\n",
                "\n",
                "# Create a FileInfo object\n",
                "$file = Get-Item \"C:\\temp\\SPReports\\databasefile.csv\"\n",
                "\n",
                "# Display the type of the object\n",
                "Write-Host \"Type: $($file.GetType().FullName)\"\n",
                "\n",
                "# Display the properties of the object\n",
                "Write-Host \"Properties:\"\n",
                "$file | Format-List *\n",
                "\n",
                "# Use a method of the object\n",
                "$newPath = \"C:\\path\\to\\new\\location\\file.txt\"\n",
                "$file.CopyTo($newPath)\n",
                "\n",
                "Write-Host \"File copied to $newPath\"\n",
                ""
            ],
            "metadata": {
                "azdata_cell_guid": "18219f8c-bd73-4ecb-873a-28367af25c49",
                "language": "powershell"
            },
            "outputs": [
                {
                    "name": "stdout",
                    "text": "Type: System.IO.FileInfo\nProperties:\n\n\nPSPath            : Microsoft.PowerShell.Core\\FileSystem::C:\\temp\\SPReports\\databasefile.csv\nPSParentPath      : Microsoft.PowerShell.Core\\FileSystem::C:\\temp\\SPReports\nPSChildName       : databasefile.csv\nPSDrive           : C\nPSProvider        : Microsoft.PowerShell.Core\\FileSystem\nPSIsContainer     : False\nMode              : -a----\nVersionInfo       : File:             C:\\temp\\SPReports\\databasefile.csv\n                    InternalName:     \n                    OriginalFilename: \n                    FileVersion:      \n                    FileDescription:  \n                    Product:          \n                    ProductVersion:   \n                    Debug:            False\n                    Patched:          False\n                    PreRelease:       False\n                    PrivateBuild:     False\n                    SpecialBuild:     False\n                    Language:         \n                    \nBaseName          : databasefile\nTarget            : {}\nLinkType          : \nName              : databasefile.csv\nLength            : 12352\nDirectoryName     : C:\\temp\\SPReports\nDirectory         : C:\\temp\\SPReports\nIsReadOnly        : False\nExists            : True\nFullName          : C:\\temp\\SPReports\\databasefile.csv\nExtension         : .csv\nCreationTime      : 4/4/2024 2:17:44 PM\nCreationTimeUtc   : 4/4/2024 6:17:44 PM\nLastAccessTime    : 4/4/2024 2:19:51 PM\nLastAccessTimeUtc : 4/4/2024 6:19:51 PM\nLastWriteTime     : 4/4/2024 2:17:44 PM\nLastWriteTimeUtc  : 4/4/2024 6:17:44 PM\nAttributes        : Archive\n\n\n\n",
                    "output_type": "stream"
                },
                {
                    "name": "stdout",
                    "text": "Exception calling \"CopyTo\" with \"1\" argument(s): \"Could not find a part of the path \n'C:\\path\\to\\new\\location\\file.txt'.\"\nAt line:12 char:1\n+ $file.CopyTo($newPath)\n+ ~~~~~~~~~~~~~~~~~~~~~~\n    + CategoryInfo          : NotSpecified: (:) [], MethodInvocationException\n    + FullyQualifiedErrorId : DirectoryNotFoundException\n \nFile copied to C:\\path\\to\\new\\location\\file.txt\n",
                    "output_type": "stream"
                }
            ],
            "execution_count": 4
        }
    ]
}