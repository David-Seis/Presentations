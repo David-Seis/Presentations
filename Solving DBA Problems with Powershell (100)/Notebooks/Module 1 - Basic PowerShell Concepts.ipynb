{
    "cells": [
        {
            "attachments": {},
            "cell_type": "markdown",
            "metadata": {
                "azdata_cell_guid": "247207f8-b0e9-466d-8385-16e561b12fc5"
            },
            "source": [
                "![](https://straightpathsql.com/wp-content/uploads/2016/09/straight-path-solutions-logo-header.png)\n",
                "\n",
                "# Workshop: PowerShell Automation for the DBA\n",
                "\n",
                "#### _A Straight Path Consulting Course from David Seis_\n",
                "\n",
                "![](https://raw.githubusercontent.com/microsoft/sqlworkshops/master/graphics/textbubble.png)\n",
                "\n",
                "## Course Notebook: Module 1 - Basic PowerShell Concepts\n",
                "\n",
                "Welcome to this workshop on [_PowerShell Automation for the DBA_]. In this Notebook, you'll apply the concepts you learned in this Module.\n",
                "\n",
                "This Notebook contains recipes for some common applications of PowerShell.\n",
                "\n",
                "You'll need a working knowledge of XXX to benefit from it."
            ]
        },
        {
            "cell_type": "code",
            "execution_count": null,
            "metadata": {
                "azdata_cell_guid": "d7809bf0-0c3f-4d0c-b713-24b4b9af3613",
                "collapsed": false,
                "language": "python",
                "tags": [],
                "trusted": true
            },
            "outputs": [],
            "source": [
                "<# Comment #>\n",
                "\n",
                "## Setup Code goes here"
            ]
        },
        {
            "cell_type": "markdown",
            "metadata": {
                "azdata_cell_guid": "50099859-2d31-4e90-8c3a-491c45da7b7f"
            },
            "source": [
                "## PowerShell Concepts: Objects\n",
                "\n",
                "In PowerShell, every action you take occurs within the context of objects. As data moves from one command to the next, it moves as one or more identifiable objects¹. Here's a brief description of how all items in PowerShell are objects:\n",
                "\n",
                "- **Object**: An object is a collection of data that represents an item¹. It is made up of three types of data: the object's type, its methods, and its properties¹.\n",
                "\n",
                "- **Type**: The object type tells what kind of object it is. For example, an object that represents a file is a FileInfo object¹.\n",
                "\n",
                "- **Methods**: The object methods are actions that you can perform on the object. For example, FileInfo objects have a CopyTo method that you can use to copy the file¹.\n",
                "\n",
                "- **Properties**: Object properties store information about the object. For example, FileInfo objects have a LastWriteTime property that stores the date and time that the file was most recently accessed¹.\n",
                "\n",
                "When commands are combined in a pipeline, they pass information to each other as objects¹. This object-oriented nature of PowerShell makes it powerful and flexible, allowing for efficient data manipulation and management².\n",
                "\n",
                "More information:\n",
                "- [About Objects - PowerShell | Microsoft Learn](https://learn.microsoft.com/en-us/powershell/module/microsoft.powershell.core/about/about_objects?view=powershell-7.4)\n",
                "- [Back to Basics: Understanding PowerShell Objects - ATA Learning](https://adamtheautomator.com/powershell-objects)\n",
                "- [Understanding PowerShell Objects - Petri IT Knowledgebase](https://petri.com/powershell-objects)\n",
                "- [PowerShell | Objects | Codecadem](https://www.codecademy.com/resources/docs/powershell/objects)"
            ]
        },
        {
            "cell_type": "code",
            "execution_count": 3,
            "metadata": {
                "azdata_cell_guid": "18219f8c-bd73-4ecb-873a-28367af25c49",
                "language": "python"
            },
            "outputs": [
                {
                    "name": "stdout",
                    "output_type": "stream",
                    "text": [
                        "Diagnosis: You may have the flu.\n"
                    ]
                }
            ],
            "source": [
                "<# Demonstrating the PowerShell Object calls #>\n",
                "\n",
                "# Create a FileInfo object\n",
                "$file = Get-Item \"C:\\path\\to\\your\\file.txt\"\n",
                "\n",
                "# Display the type of the object\n",
                "Write-Host \"Type: $($file.GetType().FullName)\"\n",
                "\n",
                "# Display the properties of the object\n",
                "Write-Host \"Properties:\"\n",
                "$file | Format-List *\n",
                "\n",
                "# Use a method of the object\n",
                "$newPath = \"C:\\path\\to\\new\\location\\file.txt\"\n",
                "$file.CopyTo($newPath)\n",
                "\n",
                "Write-Host \"File copied to $newPath\"\n"
            ]
        }
    ],
    "metadata": {
        "kernelspec": {
            "display_name": "Python 3",
            "language": "python",
            "name": "python3"
        },
        "language_info": {
            "codemirror_mode": {
                "name": "ipython",
                "version": 3
            },
            "file_extension": ".py",
            "mimetype": "text/x-python",
            "name": "python",
            "nbconvert_exporter": "python",
            "pygments_lexer": "ipython3",
            "version": "3.8.10"
        }
    },
    "nbformat": 4,
    "nbformat_minor": 2
}
