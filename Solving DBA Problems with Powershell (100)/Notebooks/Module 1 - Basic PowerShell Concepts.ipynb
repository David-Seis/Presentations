{
    "metadata": {
        "kernelspec": {
            "name": "powershell",
            "display_name": "PowerShell",
            "language": "powershell"
        },
        "language_info": {
            "name": "powershell",
            "codemirror_mode": "shell",
            "mimetype": "text/x-sh",
            "file_extension": ".ps1"
        }
    },
    "nbformat_minor": 2,
    "nbformat": 4,
    "cells": [
        {
            "cell_type": "markdown",
            "source": [
                "![](https://straightpathsql.com/wp-content/uploads/2016/09/straight-path-solutions-logo-header.png)\n",
                "\n",
                "# Workshop: PowerShell Automation for the DBA\n",
                "\n",
                "#### _A Straight Path Consulting Course from David Seis_\n",
                "\n",
                "![](https://raw.githubusercontent.com/microsoft/sqlworkshops/master/graphics/textbubble.png)\n",
                "\n",
                "## Course Notebook: Module 1 - Basic PowerShell Concepts\n",
                "\n",
                "Welcome to this workshop on _PowerShell Automation for the DBA_. In this Notebook, you'll apply the concepts you learned in this Module.\n",
                "\n",
                "This Notebook contains recipes for some common applications of PowerShell in the DBA purview. \n",
                "\n",
                "Below you will find the environment setup scripts:"
            ],
            "metadata": {
                "azdata_cell_guid": "247207f8-b0e9-466d-8385-16e561b12fc5"
            },
            "attachments": {}
        },
        {
            "cell_type": "code",
            "source": [
                "<# Environment Setup Scripts #>\n",
                "\n",
                "Write-Host \"Setup Code Goes here\""
            ],
            "metadata": {
                "azdata_cell_guid": "d7809bf0-0c3f-4d0c-b713-24b4b9af3613",
                "collapsed": false,
                "language": "powershell",
                "tags": [],
                "trusted": true
            },
            "outputs": [
                {
                    "name": "stdout",
                    "text": "Setup Code Goes here\n",
                    "output_type": "stream"
                }
            ],
            "execution_count": 2
        },
        {
            "cell_type": "markdown",
            "source": [
                "## 1.1 PowerShell Concept: Commands\n",
                "\n",
                "PowerShell commands and functions serve a similar purpose as stored procedures and functions in SQL Server. They allow you to execute specific tasks, encapsulating complex sequences of operations into callable units. This modular approach enhances efficiency and simplifies the optimization and manageability of tasks related to database administration. These commands follow a verb-noun structure."
            ],
            "metadata": {
                "azdata_cell_guid": "49fd0a9d-e222-4289-b968-a9323741f701"
            },
            "attachments": {}
        },
        {
            "cell_type": "code",
            "source": [
                "<# Basic Commands #>\r\n",
                "\r\n",
                "#get the current location of the powershell cli\r\n",
                "get-location\r\n",
                "\r\n",
                "#get the current date and time\r\n",
                "Get-date\r\n",
                "\r\n",
                "# get the region information of the computer\r\n",
                "get-culture"
            ],
            "metadata": {
                "azdata_cell_guid": "83418ff8-7dbc-484a-b0cb-4a224da12dd1",
                "language": "powershell",
                "tags": []
            },
            "outputs": [
                {
                    "name": "stdout",
                    "text": "\nPath              \n----              \nC:\\Users\\DavidSeis\n\nDisplayHint : DateTime\nDate        : 5/3/2024 12:00:00 AM\nDay         : 3\nDayOfWeek   : Friday\nDayOfYear   : 124\nHour        : 21\nKind        : Local\nMillisecond : 393\nMinute      : 11\nMonth       : 5\nSecond      : 14\nTicks       : 638503674743930880\nTimeOfDay   : 21:11:14.3930880\nYear        : 2024\nDateTime    : Friday, May 3, 2024 9:11:14 PM\n\n\nParent                         : en\nLCID                           : 1033\nKeyboardLayoutId               : 1033\nName                           : en-US\nIetfLanguageTag                : en-US\nDisplayName                    : English (United States)\nNativeName                     : English (United States)\nEnglishName                    : English (United States)\nTwoLetterISOLanguageName       : en\nThreeLetterISOLanguageName     : eng\nThreeLetterWindowsLanguageName : ENU\nCompareInfo                    : CompareInfo - en-US\nTextInfo                       : TextInfo - en-US\nIsNeutralCulture               : False\nCultureTypes                   : SpecificCultures, InstalledWin32Cultures, FrameworkCultures\nNumberFormat                   : System.Globalization.NumberFormatInfo\nDateTimeFormat                 : System.Globalization.DateTimeFormatInfo\nCalendar                       : System.Globalization.GregorianCalendar\nOptionalCalendars              : {System.Globalization.GregorianCalendar, System.Globalization.GregorianCalendar}\nUseUserOverride                : True\nIsReadOnly                     : False\n\n\n\n",
                    "output_type": "stream"
                }
            ],
            "execution_count": 13
        },
        {
            "cell_type": "markdown",
            "source": [
                "## 1.2 PowerShell Concepts: Arguments\n",
                "\n",
                "In both PowerShell and T-SQL, the concepts of arguments and parameters are integral to the execution of commands or functions. In PowerShell, arguments are specific values that are passed into parameters of cmdlets, functions, or scripts. Similarly, in T-SQL, parameters are used to pass values into stored procedures and functions. This mechanism allows for the dynamic execution of commands or queries.\n",
                "\n",
                "- [About Objects - PowerShell | Microsoft Learn](https:\\learn.microsoft.com\\en-us\\powershell\\module\\microsoft.powershell.core\\about\\about_objects?view=powershell-7.4)\n",
                "- [Back to Basics: Understanding PowerShell Objects - ATA Learning](https:\\adamtheautomator.com\\powershell-objects)\n",
                "- [Understanding PowerShell Objects - Petri IT Knowledgebase](https:\\petri.com\\powershell-objects)\n",
                "- [PowerShell | Objects | Codecadem](https:\\www.codecademy.com\\resources\\docs\\powershell\\objects)"
            ],
            "metadata": {
                "azdata_cell_guid": "50099859-2d31-4e90-8c3a-491c45da7b7f"
            },
            "attachments": {}
        },
        {
            "cell_type": "code",
            "source": [
                "<# Arguments for powershell commands are similar to parameters in T-SQL stored procedures #>\n",
                "Get-ComputerInfo -Property \"CsName\",\"OsName\",\"OsLastBootUpTime\", \"CsDomainRole\"\n",
                ""
            ],
            "metadata": {
                "azdata_cell_guid": "18219f8c-bd73-4ecb-873a-28367af25c49",
                "language": "powershell"
            },
            "outputs": [
                {
                    "name": "stdout",
                    "text": "\nCsName    OsName                        OsLastBootUpTime             CsDomainRole\n------    ------                        ----------------             ------------\nSEIS-WORK Microsoft Windows 11 Business 5/3/2024 8:20:49 PM StandaloneWorkstation\n\n\n",
                    "output_type": "stream"
                }
            ],
            "execution_count": 15
        },
        {
            "cell_type": "markdown",
            "source": [
                "## 1.3 PowerShell Concepts: Variables\n",
                "\n",
                "PowerShell variables are storage entities that hold values, objects, or data. They are denoted by a dollar sign followed by the variable name, such as `$variable`. Variables in PowerShell can store a wide range of data types, from simple strings and integers to complex data structures and objects. They are dynamically typed, unlike T-SQL's declarative method, meaning the data type is determined by the value it holds and can change over time. This flexibility makes variables a powerful tool in PowerShell scripting."
            ],
            "metadata": {
                "language": "powershell",
                "azdata_cell_guid": "5438b68e-f297-4e26-833d-4b676d29ae31"
            },
            "attachments": {}
        },
        {
            "cell_type": "code",
            "source": [
                "<# Brief Demonsrtation of Variables #>\r\n",
                "\r\n",
                "$characterName = \"Luke Skywalker\"\r\n",
                "$characterAge = 19\r\n",
                "$characterPlanet = \"Tatooine\"\r\n",
                "$Role = \"Chosen One\"\r\n",
                "\r\n",
                "# Use variables in a string\r\n",
                "$message = \"Greetings, I am $characterName, aged $characterAge, from the planet $characterPlanet and I am the $Role.\"\r\n",
                "\r\n",
                "# Output the message\r\n",
                "Write-Output $message"
            ],
            "metadata": {
                "language": "powershell",
                "azdata_cell_guid": "6a4d562d-b7e1-428e-821d-e579e86544a6"
            },
            "outputs": [
                {
                    "name": "stdout",
                    "text": "Greetings, I am Luke Skywalker, aged 19, from the planet Tatooine and I am the Chosen One.\n",
                    "output_type": "stream"
                },
                {
                    "name": "stdout",
                    "text": "",
                    "output_type": "stream"
                }
            ],
            "execution_count": 18
        },
        {
            "cell_type": "markdown",
            "source": [
                "## 1.4 PowerShell Concepts: Piping\n",
                "\n",
                "In PowerShell scripting, piping is a powerful feature that allows the output of one command to be passed as input to another. This enables the chaining of commands in a way that each command performs its operation and passes its result onto the next, facilitating complex data manipulation and processing in a streamlined manner."
            ],
            "metadata": {
                "language": "powershell",
                "azdata_cell_guid": "03725b86-1cb2-4eb3-a569-b47639e9b5ae"
            },
            "attachments": {}
        },
        {
            "cell_type": "code",
            "source": [
                "# Get a list of Star Wars characters\r\n",
                "$characters = \"Luke Skywalker\", \"Darth Vader\", \"Han Solo\", \"Leia Organa\", \"Yoda\", \"Obi-Wan Kenobi\"\r\n",
                "\r\n",
                "# Use piping to filter and manipulate data\r\n",
                "$characters | Where-Object { $_ -match 'Skywalker' } | ForEach-Object { \"The force is strong with $_\" }"
            ],
            "metadata": {
                "language": "powershell",
                "azdata_cell_guid": "af22697a-8313-4770-8ff3-74c7c2e1d2a7"
            },
            "outputs": [
                {
                    "name": "stdout",
                    "text": "The force is strong with Luke Skywalker\n",
                    "output_type": "stream"
                }
            ],
            "execution_count": 19
        },
        {
            "cell_type": "markdown",
            "source": [
                "## 1.5 PowerShell Concepts: Modules\n",
                "\n",
                "PowerShell modules are packages of PowerShell functions, cmdlets, and other resources that can be used to automate tasks and extend the functionality of PowerShell. In the context of SQL Server, community-built libraries like Ola Hallengren’s Maintenance Solution and Brent Ozar’s First Responder Kit serve a similar purpose. These libraries provide a collection of scripts and tools designed to automate common maintenance tasks, improve performance, and assist in troubleshooting SQL Server issues. DBAtools is a community-driven, open-source PowerShell module for managing SQL Server. <span style=\"color: var(--vscode-foreground);\">DBAtools supports a wide range of features and editions in SQL Server, making tasks such as backup/restore, monitoring, and administration more straightforward. It’s a testament to the power of community collaboration and the principle of code reuse, making complex tasks more manageable and efficient for DBAs. It’s an invaluable tool for any DBA as you will see shortly.</span>\n",
                "\n",
                "\n",
                "-[dbatools](https://www.dbatools.io)"
            ],
            "metadata": {
                "language": "powershell",
                "azdata_cell_guid": "492107a7-070d-4823-858e-71436e0f250a"
            },
            "attachments": {}
        },
        {
            "cell_type": "code",
            "source": [
                "<# Get currently installed Powershell modules #>\r\n",
                "\r\n",
                "get-installedModule"
            ],
            "metadata": {
                "language": "powershell",
                "azdata_cell_guid": "3f33eb36-66c5-416b-86bd-a3167a3f6821"
            },
            "outputs": [
                {
                    "name": "stdout",
                    "text": "Install-Module : Administrator rights are required to install modules in 'C:\\Program Files\\WindowsPowerShell\\Modules'. \nLog on to the computer with an account that has Administrator rights, and then try again, or install \n'C:\\Users\\DavidSeis\\Documents\\WindowsPowerShell\\Modules' by adding \"-Scope CurrentUser\" to your command. You can also \ntry running the Windows PowerShell session with elevated rights (Run as Administrator).\nAt line:3 char:1\n+ Install-Module dbatools\n+ ~~~~~~~~~~~~~~~~~~~~~~~\n    + CategoryInfo          : InvalidArgument: (:) [Install-Module], ArgumentException\n    + FullyQualifiedErrorId : InstallModuleNeedsCurrentUserScopeParameterForNonAdminUser,Install-Module\n \n",
                    "output_type": "stream"
                }
            ],
            "execution_count": 22
        },
        {
            "cell_type": "code",
            "source": [
                "<#Code to isntall Dbatools#>"
            ],
            "metadata": {
                "language": "powershell",
                "azdata_cell_guid": "f430aea0-d566-4ee1-92e0-bef733938a30"
            },
            "outputs": [],
            "execution_count": null
        }
    ]
}