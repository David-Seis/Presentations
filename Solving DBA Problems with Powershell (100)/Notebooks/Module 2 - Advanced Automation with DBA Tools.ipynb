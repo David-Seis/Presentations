{
    "cells": [
        {
            "attachments": {},
            "cell_type": "markdown",
            "metadata": {
                "azdata_cell_guid": "247207f8-b0e9-466d-8385-16e561b12fc5"
            },
            "source": [
                "![](https://straightpathsql.com/wp-content/uploads/2016/09/straight-path-solutions-logo-header.png)\n",
                "\n",
                "# Workshop: PowerShell Automation for the DBA\n",
                "\n",
                "#### _A Straight Path Consulting Course from David Seis_\n",
                "\n",
                "![](https://raw.githubusercontent.com/microsoft/sqlworkshops/master/graphics/textbubble.png)\n",
                "\n",
                "## Course Notebook: Module 2 - Advanced Automation with DBA Tools\n",
                "\n",
                "Welcome to this workshop on [_PowerShell Automation for the DBA_]. In this Notebook, you'll apply the concepts you learned in this Module.\n",
                "\n",
                "This Notebook contains recipes for some common applications of PowerShell.\n",
                "\n",
                "You'll need a working knowledge of XXX to benefit from it."
            ]
        },
        {
            "cell_type": "code",
            "execution_count": null,
            "metadata": {
                "azdata_cell_guid": "d7809bf0-0c3f-4d0c-b713-24b4b9af3613",
                "collapsed": false,
                "language": "python",
                "tags": [],
                "trusted": true
            },
            "outputs": [],
            "source": [
                "<# Comment #>\n",
                "\n",
                "## Setup Code goes here"
            ]
        },
        {
            "cell_type": "markdown",
            "metadata": {
                "azdata_cell_guid": "50099859-2d31-4e90-8c3a-491c45da7b7f"
            },
            "source": [
                "## Title\n",
                "\n",
                "Brief Description"
            ]
        },
        {
            "cell_type": "code",
            "execution_count": 3,
            "metadata": {
                "azdata_cell_guid": "18219f8c-bd73-4ecb-873a-28367af25c49",
                "language": "python"
            },
            "outputs": [
                {
                    "name": "stdout",
                    "output_type": "stream",
                    "text": [
                        "Diagnosis: You may have the flu.\n"
                    ]
                }
            ],
            "source": [
                "<# Demonstrating the PowerShell Object calls #>\n",
                "\n",
                "# Comment \n",
                "Write-Host \"Code goes here\""
            ]
        }
    ],
    "metadata": {
        "kernelspec": {
            "display_name": "Python 3",
            "language": "python",
            "name": "python3"
        },
        "language_info": {
            "codemirror_mode": {
                "name": "ipython",
                "version": 3
            },
            "file_extension": ".py",
            "mimetype": "text/x-python",
            "name": "python",
            "nbconvert_exporter": "python",
            "pygments_lexer": "ipython3",
            "version": "3.8.10"
        }
    },
    "nbformat": 4,
    "nbformat_minor": 2
}
